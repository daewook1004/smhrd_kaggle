{
 "cells": [
  {
   "cell_type": "code",
   "execution_count": 13,
   "id": "4a8fe00b",
   "metadata": {},
   "outputs": [],
   "source": [
    "import pandas as pd   #판다스 데이터프레임 \n",
    "import numpy as np   #넘파이 배열 \n",
    "from matplotlib import pyplot as plt     #그래프 \n",
    "import warnings \n",
    "import seaborn as sns # 시각화 라이브러리 \n",
    "warnings.filterwarnings(\"ignore\")"
   ]
  },
  {
   "cell_type": "code",
   "execution_count": 14,
   "id": "0f7522cf",
   "metadata": {},
   "outputs": [],
   "source": [
    "submit = pd.read_csv(\"./data/sampleSubmission.csv\")"
   ]
  },
  {
   "cell_type": "code",
   "execution_count": 15,
   "id": "f9d914a1",
   "metadata": {},
   "outputs": [],
   "source": [
    "train=pd.read_csv(\"./train_jeoncheori1.csv\")\n",
    "test=pd.read_csv(\"./test_jeoncheori1.csv\")"
   ]
  },
  {
   "cell_type": "code",
   "execution_count": 26,
   "id": "efb775cb",
   "metadata": {},
   "outputs": [],
   "source": [
    "train[\"Weight_in_gms x Discount_offered\"]= train[\"Weight_in_gms\"] * train[\"Discount_offered\"]\n",
    "test[\"Weight_in_gms x Discount_offered\"]= test[\"Weight_in_gms\"] * test[\"Discount_offered\"]"
   ]
  },
  {
   "cell_type": "code",
   "execution_count": 27,
   "id": "eace681b",
   "metadata": {},
   "outputs": [],
   "source": [
    "# 곱연산 범주화 \n",
    "bins = [0,60000, 300000]\n",
    "labels = [\"60000이하\", \"60000초과\"]\n",
    "train[\"WD_label\"] = pd.cut(train[\"Weight_in_gms x Discount_offered\"], bins, labels=labels)"
   ]
  },
  {
   "cell_type": "code",
   "execution_count": 28,
   "id": "3ee42c82",
   "metadata": {},
   "outputs": [],
   "source": [
    "# 곱연산 범주화 \n",
    "bins = [0,60000, 300000]\n",
    "labels = [\"60000이하\", \"60000초과\"]\n",
    "test[\"WD_label\"] = pd.cut(test[\"Weight_in_gms x Discount_offered\"], bins, labels=labels)"
   ]
  },
  {
   "cell_type": "code",
   "execution_count": 29,
   "id": "e54d698f",
   "metadata": {},
   "outputs": [],
   "source": [
    "del train[\"Weight_in_gms\"]\n",
    "del train[\"Discount_offered\"]\n",
    "del train[\"Cost_of_the_Product\"]"
   ]
  },
  {
   "cell_type": "code",
   "execution_count": 30,
   "id": "841bded3",
   "metadata": {},
   "outputs": [],
   "source": [
    "del test[\"Weight_in_gms\"]\n",
    "del test[\"Discount_offered\"]\n",
    "del test[\"Cost_of_the_Product\"]"
   ]
  },
  {
   "cell_type": "code",
   "execution_count": 36,
   "id": "ee9c4a2d",
   "metadata": {},
   "outputs": [],
   "source": [
    "X_test = test1\n",
    "Y_train = train1[\"Reached.on.Time_Y.N\"]\n",
    "X_train = train1.drop(\"Reached.on.Time_Y.N\", axis =1)"
   ]
  },
  {
   "cell_type": "code",
   "execution_count": 38,
   "id": "babea891",
   "metadata": {},
   "outputs": [],
   "source": [
    "select_fi = [\"Discount_label\", \"WD_label\", \"Weight_label\", \"Cost_label\"] "
   ]
  },
  {
   "cell_type": "code",
   "execution_count": 39,
   "id": "73b6c004",
   "metadata": {},
   "outputs": [],
   "source": [
    "# X_train 범주형 원핫 인코딩 \n",
    "for fi_name in select_fi:\n",
    "    dummy= pd.get_dummies(train[fi_name], prefix= fi_name)\n",
    "    X_train = pd.concat([X_train, dummy], axis=1)\n",
    "    X_train.drop(fi_name, axis=1, inplace=True)"
   ]
  },
  {
   "cell_type": "code",
   "execution_count": 40,
   "id": "abeb7209",
   "metadata": {},
   "outputs": [],
   "source": [
    "# X_train 범주형 원핫 인코딩 \n",
    "for fi_name in select_fi:\n",
    "    dummy= pd.get_dummies(train[fi_name], prefix= fi_name)\n",
    "    train = pd.concat([train, dummy], axis=1)\n",
    "    train.drop(fi_name, axis=1, inplace=True)"
   ]
  },
  {
   "cell_type": "code",
   "execution_count": 41,
   "id": "8108c711",
   "metadata": {
    "scrolled": false
   },
   "outputs": [],
   "source": [
    "# X_test 범주형 원핫 인코딩 \n",
    "for fi_name in select_fi:\n",
    "    dummy= pd.get_dummies(test[fi_name], prefix= fi_name)\n",
    "    X_test = pd.concat([X_test, dummy], axis=1)\n",
    "    X_test.drop(fi_name, axis=1, inplace=True)"
   ]
  },
  {
   "cell_type": "code",
   "execution_count": 44,
   "id": "0b5fb117",
   "metadata": {},
   "outputs": [],
   "source": [
    "del X_train[\"Gender\"]\n",
    "del X_train[\"Mode_of_Shipment\"]\n",
    "del X_train[\"Warehouse_block\"]\n",
    "del X_train[\"WD_label_60000초과\"]"
   ]
  },
  {
   "cell_type": "code",
   "execution_count": 45,
   "id": "1e76bb9e",
   "metadata": {},
   "outputs": [],
   "source": [
    "del X_test[\"Gender\"]\n",
    "del X_test[\"Mode_of_Shipment\"]\n",
    "del X_test[\"Warehouse_block\"]\n",
    "del X_test[\"WD_label_60000초과\"]"
   ]
  },
  {
   "cell_type": "code",
   "execution_count": 46,
   "id": "af842dba",
   "metadata": {},
   "outputs": [],
   "source": [
    "del X_train[\"Weight_in_gms x Discount_offered\"]\n",
    "del X_test[\"Weight_in_gms x Discount_offered\"]"
   ]
  },
  {
   "cell_type": "code",
   "execution_count": 52,
   "id": "cc4a6337",
   "metadata": {},
   "outputs": [],
   "source": [
    "from sklearn.tree import DecisionTreeClassifier\n",
    "from sklearn.neighbors import KNeighborsClassifier\n",
    "from sklearn.model_selection import cross_val_score"
   ]
  },
  {
   "cell_type": "code",
   "execution_count": 53,
   "id": "b482ddf2",
   "metadata": {},
   "outputs": [],
   "source": [
    "# 스케일링 진행 라이브러리 불러오기 \n",
    "from sklearn.preprocessing import StandardScaler  \n",
    "scaler = StandardScaler()"
   ]
  },
  {
   "cell_type": "code",
   "execution_count": 54,
   "id": "0532c223",
   "metadata": {},
   "outputs": [
    {
     "data": {
      "text/plain": [
       "StandardScaler()"
      ]
     },
     "execution_count": 54,
     "metadata": {},
     "output_type": "execute_result"
    }
   ],
   "source": [
    "scaler.fit(X_train)"
   ]
  },
  {
   "cell_type": "code",
   "execution_count": 55,
   "id": "0dad04b9",
   "metadata": {},
   "outputs": [
    {
     "data": {
      "text/plain": [
       "StandardScaler()"
      ]
     },
     "execution_count": 55,
     "metadata": {},
     "output_type": "execute_result"
    }
   ],
   "source": [
    "scaler.fit(X_test)"
   ]
  },
  {
   "cell_type": "code",
   "execution_count": 56,
   "id": "f39e3eae",
   "metadata": {
    "scrolled": true
   },
   "outputs": [
    {
     "data": {
      "text/plain": [
       "array([[-1.93571316, -0.69153602, -0.37121497, ..., -0.53649791,\n",
       "        -0.94833287, -0.22331316],\n",
       "       [ 0.87509976,  0.01321406,  0.99291904, ..., -0.53649791,\n",
       "         1.05448206, -0.22331316],\n",
       "       [-0.99877552, -1.3962861 , -0.37121497, ..., -0.53649791,\n",
       "         1.05448206, -0.22331316],\n",
       "       ...,\n",
       "       [ 1.8120374 , -1.3962861 ,  0.99291904, ..., -0.53649791,\n",
       "        -0.94833287,  4.47801648],\n",
       "       [-0.99877552, -1.3962861 , -1.05328197, ..., -0.53649791,\n",
       "         1.05448206, -0.22331316],\n",
       "       [-0.99877552,  0.01321406,  2.35705304, ..., -0.53649791,\n",
       "         1.05448206, -0.22331316]])"
      ]
     },
     "execution_count": 56,
     "metadata": {},
     "output_type": "execute_result"
    }
   ],
   "source": [
    "transform_X_train = scaler.transform(X_train)\n",
    "transform_X_train"
   ]
  },
  {
   "cell_type": "code",
   "execution_count": 57,
   "id": "7db0f991",
   "metadata": {
    "scrolled": false
   },
   "outputs": [
    {
     "data": {
      "text/plain": [
       "array([[-0.99877552, -1.3962861 , -0.37121497, ..., -0.53649791,\n",
       "         1.05448206, -0.22331316],\n",
       "       [-0.99877552,  0.71796415, -1.05328197, ..., -0.53649791,\n",
       "        -0.94833287, -0.22331316],\n",
       "       [-0.06183788,  1.42271423, -0.37121497, ..., -0.53649791,\n",
       "        -0.94833287, -0.22331316],\n",
       "       ...,\n",
       "       [-0.06183788,  0.01321406, -1.05328197, ...,  1.86394016,\n",
       "        -0.94833287, -0.22331316],\n",
       "       [ 1.8120374 ,  0.71796415,  0.31085204, ..., -0.53649791,\n",
       "         1.05448206, -0.22331316],\n",
       "       [ 0.87509976, -1.3962861 ,  0.99291904, ..., -0.53649791,\n",
       "         1.05448206, -0.22331316]])"
      ]
     },
     "execution_count": 57,
     "metadata": {},
     "output_type": "execute_result"
    }
   ],
   "source": [
    "transform_X_test = scaler.transform(X_test)\n",
    "transform_X_test"
   ]
  },
  {
   "cell_type": "markdown",
   "id": "bd564680",
   "metadata": {},
   "source": [
    "### KNN모델 "
   ]
  },
  {
   "cell_type": "code",
   "execution_count": 128,
   "id": "43c88ecc",
   "metadata": {},
   "outputs": [],
   "source": [
    "from tqdm import tqdm"
   ]
  },
  {
   "cell_type": "code",
   "execution_count": 129,
   "id": "4d211db4",
   "metadata": {},
   "outputs": [
    {
     "name": "stderr",
     "output_type": "stream",
     "text": [
      "100%|████████████████████████████████████████████████████████████████████████████████| 500/500 [18:20<00:00,  2.20s/it]\n"
     ]
    }
   ],
   "source": [
    "\n",
    "train_list =[]\n",
    "neighbors_settings = tqdm(range(300,800))\n",
    "# 1~50까지 값을 neighbors_setting변수 저장 \n",
    "\n",
    "\n",
    "for k in neighbors_settings :\n",
    "    # 모델 생성 \n",
    "    knn_clf = KNeighborsClassifier(n_neighbors=k)\n",
    "    # 모델 학습 \n",
    "    knn_clf.fit(transform_X_train, Y_train3)\n",
    "    #테스트 데이터를 이용한 예측 \n",
    "    test_pre = knn_clf.predict(transform_X_test)\n",
    "    test_score =  cross_val_score(knn_clf, transform_X_train,\n",
    "                            Y_train, cv=5)\n",
    "    train_list.append(test_score.mean())\n",
    "    \n",
    "    # 학습 데이터 정확도 측정 "
   ]
  },
  {
   "cell_type": "code",
   "execution_count": 1419,
   "id": "d13c1591",
   "metadata": {},
   "outputs": [],
   "source": [
    "knn_neigbors =pd.Series(train_list)"
   ]
  },
  {
   "cell_type": "code",
   "execution_count": 1422,
   "id": "7cdd297d",
   "metadata": {},
   "outputs": [
    {
     "data": {
      "text/plain": [
       "87    0.657383\n",
       "dtype: float64"
      ]
     },
     "execution_count": 1422,
     "metadata": {},
     "output_type": "execute_result"
    }
   ],
   "source": [
    "knn_neigbors[knn_neigbors==0.6573826202389462]"
   ]
  },
  {
   "cell_type": "code",
   "execution_count": 137,
   "id": "57fc279f",
   "metadata": {},
   "outputs": [
    {
     "name": "stderr",
     "output_type": "stream",
     "text": [
      "100%|████████████████████████████████████████████████████████████████████████████████| 500/500 [18:57<00:00,  2.27s/it]\n"
     ]
    }
   ],
   "source": [
    "\n",
    "train_list1 =[]\n",
    "# 1~50까지 값을 neighbors_setting변수 저장 \n",
    "neighbors_settings = tqdm(range(300,800))\n",
    "\n",
    "for k in neighbors_settings :\n",
    "    # 모델 생성 \n",
    "    knn_clf = KNeighborsClassifier(n_neighbors=k)\n",
    "    # 모델 학습 \n",
    "    knn_clf.fit(transform_X_train, Y_train3)\n",
    "    #테스트 데이터를 이용한 예측 \n",
    "    test_pre = knn_clf.predict(transform_X_test)\n",
    "    test_score =  cross_val_score(knn_clf, transform_X_train,\n",
    "                            Y_train3, cv=10)\n",
    "    train_list1.append(test_score.mean())"
   ]
  },
  {
   "cell_type": "code",
   "execution_count": 138,
   "id": "ee0ddd06",
   "metadata": {},
   "outputs": [],
   "source": [
    "knn_neigbors_cv10 =pd.Series(train_list1)"
   ]
  },
  {
   "cell_type": "code",
   "execution_count": 1418,
   "id": "d77d2a56",
   "metadata": {
    "scrolled": true
   },
   "outputs": [
    {
     "data": {
      "image/png": "[encoded data removed]",
      "text/plain": [
       "<Figure size 1440x432 with 1 Axes>"
      ]
     },
     "metadata": {
      "needs_background": "light"
     },
     "output_type": "display_data"
    }
   ],
   "source": [
    "# 하이퍼 파라미터 튜닝의 결과의 시각화 \n",
    "plt.figure(figsize=(20,6))\n",
    "plt.plot(range(300,800), train_list, label = \"train_acc\") #acc 정확도의 줄임말 \n",
    "\n",
    "plt.grid()\n",
    "plt.xticks(range(300, 800, 100))\n",
    "plt.ylabel(\"Accuracy\")\n",
    "plt.xlabel(\"n_neighbors\", rotation = 30)\n",
    "plt.legend()\n",
    "plt.show()"
   ]
  },
  {
   "cell_type": "code",
   "execution_count": 148,
   "id": "3d0afcfd",
   "metadata": {},
   "outputs": [
    {
     "data": {
      "image/png": "[encoded data removed]",
      "text/plain": [
       "<Figure size 1440x432 with 1 Axes>"
      ]
     },
     "metadata": {
      "needs_background": "light"
     },
     "output_type": "display_data"
    }
   ],
   "source": [
    "# 하이퍼 파라미터 튜닝의 결과의 시각화 \n",
    "plt.figure(figsize=(20,6))\n",
    "plt.plot(range(280,1001), train_list1, label = \"train_acc\") #acc 정확도의 줄임말 \n",
    "\n",
    "plt.grid()\n",
    "plt.xticks(range(280,1001,100))\n",
    "plt.ylabel(\"Accuracy\")\n",
    "plt.xlabel(\"n_neighbors\", rotation = 30)\n",
    "plt.legend()\n",
    "plt.show()"
   ]
  },
  {
   "cell_type": "code",
   "execution_count": 920,
   "id": "a174e490",
   "metadata": {},
   "outputs": [],
   "source": [
    "knn_model = KNeighborsClassifier(n_neighbors=870) ## 양호 #8521"
   ]
  },
  {
   "cell_type": "code",
   "execution_count": 921,
   "id": "40907852",
   "metadata": {},
   "outputs": [],
   "source": [
    "knn_model = KNeighborsClassifier() "
   ]
  },
  {
   "cell_type": "code",
   "execution_count": 922,
   "id": "73adbb6c",
   "metadata": {
    "scrolled": false
   },
   "outputs": [
    {
     "data": {
      "text/plain": [
       "KNeighborsClassifier()"
      ]
     },
     "execution_count": 922,
     "metadata": {},
     "output_type": "execute_result"
    }
   ],
   "source": [
    "knn_model.fit(transform_X_train, Y_train)"
   ]
  },
  {
   "cell_type": "code",
   "execution_count": 923,
   "id": "da4902da",
   "metadata": {},
   "outputs": [
    {
     "data": {
      "text/plain": [
       "array([0.62214286, 0.62357143, 0.62      , 0.65642857, 0.63187991])"
      ]
     },
     "execution_count": 923,
     "metadata": {},
     "output_type": "execute_result"
    }
   ],
   "source": [
    "result_knn= cross_val_score(knn_model, transform_X_train,\n",
    "                            Y_train, cv=5)\n",
    "result_knn"
   ]
  },
  {
   "cell_type": "code",
   "execution_count": 924,
   "id": "80da6c7c",
   "metadata": {},
   "outputs": [
    {
     "data": {
      "text/plain": [
       "0.6308045542734606"
      ]
     },
     "execution_count": 924,
     "metadata": {},
     "output_type": "execute_result"
    }
   ],
   "source": [
    "result_knn.mean()"
   ]
  },
  {
   "cell_type": "code",
   "execution_count": 197,
   "id": "f4537ecb",
   "metadata": {},
   "outputs": [
    {
     "data": {
      "text/plain": [
       "array([0, 1, 0, ..., 0, 0, 1], dtype=int64)"
      ]
     },
     "execution_count": 197,
     "metadata": {},
     "output_type": "execute_result"
    }
   ],
   "source": [
    "pre_ran = knn_model.predict(transform_X_test)\n",
    "pre_ran"
   ]
  },
  {
   "cell_type": "code",
   "execution_count": 198,
   "id": "72bb47a3",
   "metadata": {},
   "outputs": [],
   "source": [
    "from sklearn.model_selection import train_test_split "
   ]
  },
  {
   "cell_type": "code",
   "execution_count": 199,
   "id": "19c61dd0",
   "metadata": {},
   "outputs": [],
   "source": [
    "X_train_0, X_test1_0, Y_train1_0, Y_test1_0 = train_test_split(transform_X_train, Y_train3, \n",
    "                                                        test_size =0.1, random_state=80)"
   ]
  },
  {
   "cell_type": "code",
   "execution_count": 200,
   "id": "57215a71",
   "metadata": {},
   "outputs": [],
   "source": [
    "knn_model_1 = KNeighborsClassifier()"
   ]
  },
  {
   "cell_type": "code",
   "execution_count": 201,
   "id": "10c3019d",
   "metadata": {},
   "outputs": [
    {
     "data": {
      "text/plain": [
       "KNeighborsClassifier()"
      ]
     },
     "execution_count": 201,
     "metadata": {},
     "output_type": "execute_result"
    }
   ],
   "source": [
    "knn_model_1.fit(X_train_0, Y_train1_0)"
   ]
  },
  {
   "cell_type": "code",
   "execution_count": 202,
   "id": "02004b1a",
   "metadata": {},
   "outputs": [],
   "source": [
    "result_knn_training= cross_val_score(knn_model_1, X_train_0,\n",
    "                            Y_train1_0, cv=5)"
   ]
  },
  {
   "cell_type": "code",
   "execution_count": 203,
   "id": "cc3cd35b",
   "metadata": {},
   "outputs": [
    {
     "data": {
      "text/plain": [
       "0.6262907069102462"
      ]
     },
     "execution_count": 203,
     "metadata": {},
     "output_type": "execute_result"
    }
   ],
   "source": [
    "result_knn_training.mean()"
   ]
  },
  {
   "cell_type": "code",
   "execution_count": 204,
   "id": "7c141106",
   "metadata": {
    "scrolled": true
   },
   "outputs": [
    {
     "data": {
      "text/plain": [
       "KNeighborsClassifier()"
      ]
     },
     "execution_count": 204,
     "metadata": {},
     "output_type": "execute_result"
    }
   ],
   "source": [
    "knn_model_1.fit(X_test1_0, Y_test1_0)"
   ]
  },
  {
   "cell_type": "code",
   "execution_count": 206,
   "id": "513f4c72",
   "metadata": {},
   "outputs": [],
   "source": [
    "result_knn_test= cross_val_score(knn_model_1, X_test1_0,\n",
    "                             Y_test1_0, cv=5)"
   ]
  },
  {
   "cell_type": "code",
   "execution_count": 207,
   "id": "d6bba36c",
   "metadata": {},
   "outputs": [
    {
     "data": {
      "text/plain": [
       "array([0.57857143, 0.6       , 0.6       , 0.6       , 0.59285714])"
      ]
     },
     "execution_count": 207,
     "metadata": {},
     "output_type": "execute_result"
    }
   ],
   "source": [
    "result_knn_test"
   ]
  },
  {
   "cell_type": "code",
   "execution_count": 208,
   "id": "22980955",
   "metadata": {},
   "outputs": [
    {
     "name": "stdout",
     "output_type": "stream",
     "text": [
      "<class 'pandas.core.series.Series'>\n",
      "Int64Index: 700 entries, 1495 to 4100\n",
      "Series name: Reached.on.Time_Y.N\n",
      "Non-Null Count  Dtype\n",
      "--------------  -----\n",
      "700 non-null    int64\n",
      "dtypes: int64(1)\n",
      "memory usage: 10.9 KB\n"
     ]
    }
   ],
   "source": [
    "Y_test1_0.info()"
   ]
  },
  {
   "cell_type": "code",
   "execution_count": 210,
   "id": "2e70a6a7",
   "metadata": {},
   "outputs": [
    {
     "data": {
      "text/plain": [
       "0.5942857142857143"
      ]
     },
     "execution_count": 210,
     "metadata": {},
     "output_type": "execute_result"
    }
   ],
   "source": [
    "result_knn_test.mean()"
   ]
  },
  {
   "cell_type": "code",
   "execution_count": 5045,
   "id": "0f70a4b5",
   "metadata": {},
   "outputs": [],
   "source": [
    "submit[\"Reached.on.Time_Y.N\"]=pre_ran"
   ]
  },
  {
   "cell_type": "code",
   "execution_count": 5046,
   "id": "12a12268",
   "metadata": {},
   "outputs": [],
   "source": [
    "submit.to_csv(\"1109_4knn.csv\", index=False)"
   ]
  },
  {
   "cell_type": "code",
   "execution_count": null,
   "id": "cefbd7e9",
   "metadata": {},
   "outputs": [],
   "source": []
  },
  {
   "cell_type": "markdown",
   "id": "77103550",
   "metadata": {},
   "source": [
    "### 의사 결정나무 "
   ]
  },
  {
   "cell_type": "code",
   "execution_count": 937,
   "id": "f795619d",
   "metadata": {},
   "outputs": [
    {
     "data": {
      "text/plain": [
       "DecisionTreeClassifier(max_depth=5, min_samples_leaf=12, min_samples_split=11)"
      ]
     },
     "execution_count": 937,
     "metadata": {},
     "output_type": "execute_result"
    }
   ],
   "source": [
    "tree_model = DecisionTreeClassifier(max_depth= 5, min_samples_leaf= 12, min_samples_split=11)\n",
    "tree_model.fit(transform_X_train, Y_train)\n",
    "\n",
    "\n",
    "             \n",
    "             # 'max_depth': 5, 'min_samples_leaf': 51, 'min_samples_split': 51"
   ]
  },
  {
   "cell_type": "code",
   "execution_count": null,
   "id": "4562a4ac",
   "metadata": {},
   "outputs": [],
   "source": []
  },
  {
   "cell_type": "code",
   "execution_count": null,
   "id": "5386d58d",
   "metadata": {},
   "outputs": [],
   "source": []
  },
  {
   "cell_type": "code",
   "execution_count": 938,
   "id": "5d1b7582",
   "metadata": {},
   "outputs": [],
   "source": [
    "result = cross_val_score(tree_model, transform_X_train,\n",
    "                            Y_train, cv=5)"
   ]
  },
  {
   "cell_type": "code",
   "execution_count": 939,
   "id": "2e14eefe",
   "metadata": {
    "scrolled": true
   },
   "outputs": [
    {
     "data": {
      "text/plain": [
       "array([0.65071429, 0.65071429, 0.64785714, 0.66142857, 0.66904932])"
      ]
     },
     "execution_count": 939,
     "metadata": {},
     "output_type": "execute_result"
    }
   ],
   "source": [
    "result"
   ]
  },
  {
   "cell_type": "code",
   "execution_count": 940,
   "id": "3434001b",
   "metadata": {
    "scrolled": true
   },
   "outputs": [
    {
     "data": {
      "text/plain": [
       "0.6559527213315633"
      ]
     },
     "execution_count": 940,
     "metadata": {},
     "output_type": "execute_result"
    }
   ],
   "source": [
    "result.mean()   #'max_depth': 5, 'min_samples_leaf': 42, 'min_samples_split': 21"
   ]
  },
  {
   "cell_type": "code",
   "execution_count": 729,
   "id": "6dc032a5",
   "metadata": {
    "scrolled": true
   },
   "outputs": [
    {
     "ename": "KeyboardInterrupt",
     "evalue": "",
     "output_type": "error",
     "traceback": [
      "\u001b[1;31m---------------------------------------------------------------------------\u001b[0m",
      "\u001b[1;31mKeyboardInterrupt\u001b[0m                         Traceback (most recent call last)",
      "Input \u001b[1;32mIn [729]\u001b[0m, in \u001b[0;36m<cell line: 6>\u001b[1;34m()\u001b[0m\n\u001b[0;32m      3\u001b[0m parameters \u001b[38;5;241m=\u001b[39m {\u001b[38;5;124m'\u001b[39m\u001b[38;5;124mmax_depth\u001b[39m\u001b[38;5;124m'\u001b[39m: \u001b[38;5;28mrange\u001b[39m(\u001b[38;5;241m12\u001b[39m,\u001b[38;5;241m20\u001b[39m),\n\u001b[0;32m      4\u001b[0m               \u001b[38;5;124m'\u001b[39m\u001b[38;5;124mmin_samples_split\u001b[39m\u001b[38;5;124m'\u001b[39m : \u001b[38;5;28mrange\u001b[39m(\u001b[38;5;241m1\u001b[39m,\u001b[38;5;241m101\u001b[39m), \u001b[38;5;124m'\u001b[39m\u001b[38;5;124mmin_samples_leaf\u001b[39m\u001b[38;5;124m'\u001b[39m: \u001b[38;5;28mrange\u001b[39m(\u001b[38;5;241m1\u001b[39m,\u001b[38;5;241m61\u001b[39m) }\n\u001b[0;32m      5\u001b[0m grid_dclf \u001b[38;5;241m=\u001b[39m GridSearchCV(tree_model, param_grid\u001b[38;5;241m=\u001b[39mparameters, scoring\u001b[38;5;241m=\u001b[39m\u001b[38;5;124m'\u001b[39m\u001b[38;5;124maccuracy\u001b[39m\u001b[38;5;124m'\u001b[39m, cv\u001b[38;5;241m=\u001b[39m\u001b[38;5;241m5\u001b[39m)\n\u001b[1;32m----> 6\u001b[0m \u001b[43mgrid_dclf\u001b[49m\u001b[38;5;241;43m.\u001b[39;49m\u001b[43mfit\u001b[49m\u001b[43m(\u001b[49m\u001b[43mX_train\u001b[49m\u001b[43m,\u001b[49m\u001b[43m \u001b[49m\u001b[43mY_train\u001b[49m\u001b[43m)\u001b[49m\n\u001b[0;32m      8\u001b[0m \u001b[38;5;28mprint\u001b[39m(\u001b[38;5;124m\"\u001b[39m\u001b[38;5;124mGridSearchCV 최적의 하이퍼 파라미터: \u001b[39m\u001b[38;5;124m\"\u001b[39m, grid_dclf\u001b[38;5;241m.\u001b[39mbest_params_)\n\u001b[0;32m      9\u001b[0m \u001b[38;5;28mprint\u001b[39m(\u001b[38;5;124m\"\u001b[39m\u001b[38;5;124mGridSearchCV 최고 정확도: \u001b[39m\u001b[38;5;132;01m{0:.4f}\u001b[39;00m\u001b[38;5;124m \u001b[39m\u001b[38;5;124m\"\u001b[39m\u001b[38;5;241m.\u001b[39mformat(grid_dclf\u001b[38;5;241m.\u001b[39mbest_score_))\n",
      "File \u001b[1;32m~\\anaconda3\\lib\\site-packages\\sklearn\\model_selection\\_search.py:891\u001b[0m, in \u001b[0;36mBaseSearchCV.fit\u001b[1;34m(self, X, y, groups, **fit_params)\u001b[0m\n\u001b[0;32m    885\u001b[0m     results \u001b[38;5;241m=\u001b[39m \u001b[38;5;28mself\u001b[39m\u001b[38;5;241m.\u001b[39m_format_results(\n\u001b[0;32m    886\u001b[0m         all_candidate_params, n_splits, all_out, all_more_results\n\u001b[0;32m    887\u001b[0m     )\n\u001b[0;32m    889\u001b[0m     \u001b[38;5;28;01mreturn\u001b[39;00m results\n\u001b[1;32m--> 891\u001b[0m \u001b[38;5;28;43mself\u001b[39;49m\u001b[38;5;241;43m.\u001b[39;49m\u001b[43m_run_search\u001b[49m\u001b[43m(\u001b[49m\u001b[43mevaluate_candidates\u001b[49m\u001b[43m)\u001b[49m\n\u001b[0;32m    893\u001b[0m \u001b[38;5;66;03m# multimetric is determined here because in the case of a callable\u001b[39;00m\n\u001b[0;32m    894\u001b[0m \u001b[38;5;66;03m# self.scoring the return type is only known after calling\u001b[39;00m\n\u001b[0;32m    895\u001b[0m first_test_score \u001b[38;5;241m=\u001b[39m all_out[\u001b[38;5;241m0\u001b[39m][\u001b[38;5;124m\"\u001b[39m\u001b[38;5;124mtest_scores\u001b[39m\u001b[38;5;124m\"\u001b[39m]\n",
      "File \u001b[1;32m~\\anaconda3\\lib\\site-packages\\sklearn\\model_selection\\_search.py:1392\u001b[0m, in \u001b[0;36mGridSearchCV._run_search\u001b[1;34m(self, evaluate_candidates)\u001b[0m\n\u001b[0;32m   1390\u001b[0m \u001b[38;5;28;01mdef\u001b[39;00m \u001b[38;5;21m_run_search\u001b[39m(\u001b[38;5;28mself\u001b[39m, evaluate_candidates):\n\u001b[0;32m   1391\u001b[0m     \u001b[38;5;124;03m\"\"\"Search all candidates in param_grid\"\"\"\u001b[39;00m\n\u001b[1;32m-> 1392\u001b[0m     \u001b[43mevaluate_candidates\u001b[49m\u001b[43m(\u001b[49m\u001b[43mParameterGrid\u001b[49m\u001b[43m(\u001b[49m\u001b[38;5;28;43mself\u001b[39;49m\u001b[38;5;241;43m.\u001b[39;49m\u001b[43mparam_grid\u001b[49m\u001b[43m)\u001b[49m\u001b[43m)\u001b[49m\n",
      "File \u001b[1;32m~\\anaconda3\\lib\\site-packages\\sklearn\\model_selection\\_search.py:838\u001b[0m, in \u001b[0;36mBaseSearchCV.fit.<locals>.evaluate_candidates\u001b[1;34m(candidate_params, cv, more_results)\u001b[0m\n\u001b[0;32m    830\u001b[0m \u001b[38;5;28;01mif\u001b[39;00m \u001b[38;5;28mself\u001b[39m\u001b[38;5;241m.\u001b[39mverbose \u001b[38;5;241m>\u001b[39m \u001b[38;5;241m0\u001b[39m:\n\u001b[0;32m    831\u001b[0m     \u001b[38;5;28mprint\u001b[39m(\n\u001b[0;32m    832\u001b[0m         \u001b[38;5;124m\"\u001b[39m\u001b[38;5;124mFitting \u001b[39m\u001b[38;5;132;01m{0}\u001b[39;00m\u001b[38;5;124m folds for each of \u001b[39m\u001b[38;5;132;01m{1}\u001b[39;00m\u001b[38;5;124m candidates,\u001b[39m\u001b[38;5;124m\"\u001b[39m\n\u001b[0;32m    833\u001b[0m         \u001b[38;5;124m\"\u001b[39m\u001b[38;5;124m totalling \u001b[39m\u001b[38;5;132;01m{2}\u001b[39;00m\u001b[38;5;124m fits\u001b[39m\u001b[38;5;124m\"\u001b[39m\u001b[38;5;241m.\u001b[39mformat(\n\u001b[0;32m    834\u001b[0m             n_splits, n_candidates, n_candidates \u001b[38;5;241m*\u001b[39m n_splits\n\u001b[0;32m    835\u001b[0m         )\n\u001b[0;32m    836\u001b[0m     )\n\u001b[1;32m--> 838\u001b[0m out \u001b[38;5;241m=\u001b[39m \u001b[43mparallel\u001b[49m\u001b[43m(\u001b[49m\n\u001b[0;32m    839\u001b[0m \u001b[43m    \u001b[49m\u001b[43mdelayed\u001b[49m\u001b[43m(\u001b[49m\u001b[43m_fit_and_score\u001b[49m\u001b[43m)\u001b[49m\u001b[43m(\u001b[49m\n\u001b[0;32m    840\u001b[0m \u001b[43m        \u001b[49m\u001b[43mclone\u001b[49m\u001b[43m(\u001b[49m\u001b[43mbase_estimator\u001b[49m\u001b[43m)\u001b[49m\u001b[43m,\u001b[49m\n\u001b[0;32m    841\u001b[0m \u001b[43m        \u001b[49m\u001b[43mX\u001b[49m\u001b[43m,\u001b[49m\n\u001b[0;32m    842\u001b[0m \u001b[43m        \u001b[49m\u001b[43my\u001b[49m\u001b[43m,\u001b[49m\n\u001b[0;32m    843\u001b[0m \u001b[43m        \u001b[49m\u001b[43mtrain\u001b[49m\u001b[38;5;241;43m=\u001b[39;49m\u001b[43mtrain\u001b[49m\u001b[43m,\u001b[49m\n\u001b[0;32m    844\u001b[0m \u001b[43m        \u001b[49m\u001b[43mtest\u001b[49m\u001b[38;5;241;43m=\u001b[39;49m\u001b[43mtest\u001b[49m\u001b[43m,\u001b[49m\n\u001b[0;32m    845\u001b[0m \u001b[43m        \u001b[49m\u001b[43mparameters\u001b[49m\u001b[38;5;241;43m=\u001b[39;49m\u001b[43mparameters\u001b[49m\u001b[43m,\u001b[49m\n\u001b[0;32m    846\u001b[0m \u001b[43m        \u001b[49m\u001b[43msplit_progress\u001b[49m\u001b[38;5;241;43m=\u001b[39;49m\u001b[43m(\u001b[49m\u001b[43msplit_idx\u001b[49m\u001b[43m,\u001b[49m\u001b[43m \u001b[49m\u001b[43mn_splits\u001b[49m\u001b[43m)\u001b[49m\u001b[43m,\u001b[49m\n\u001b[0;32m    847\u001b[0m \u001b[43m        \u001b[49m\u001b[43mcandidate_progress\u001b[49m\u001b[38;5;241;43m=\u001b[39;49m\u001b[43m(\u001b[49m\u001b[43mcand_idx\u001b[49m\u001b[43m,\u001b[49m\u001b[43m \u001b[49m\u001b[43mn_candidates\u001b[49m\u001b[43m)\u001b[49m\u001b[43m,\u001b[49m\n\u001b[0;32m    848\u001b[0m \u001b[43m        \u001b[49m\u001b[38;5;241;43m*\u001b[39;49m\u001b[38;5;241;43m*\u001b[39;49m\u001b[43mfit_and_score_kwargs\u001b[49m\u001b[43m,\u001b[49m\n\u001b[0;32m    849\u001b[0m \u001b[43m    \u001b[49m\u001b[43m)\u001b[49m\n\u001b[0;32m    850\u001b[0m \u001b[43m    \u001b[49m\u001b[38;5;28;43;01mfor\u001b[39;49;00m\u001b[43m \u001b[49m\u001b[43m(\u001b[49m\u001b[43mcand_idx\u001b[49m\u001b[43m,\u001b[49m\u001b[43m \u001b[49m\u001b[43mparameters\u001b[49m\u001b[43m)\u001b[49m\u001b[43m,\u001b[49m\u001b[43m \u001b[49m\u001b[43m(\u001b[49m\u001b[43msplit_idx\u001b[49m\u001b[43m,\u001b[49m\u001b[43m \u001b[49m\u001b[43m(\u001b[49m\u001b[43mtrain\u001b[49m\u001b[43m,\u001b[49m\u001b[43m \u001b[49m\u001b[43mtest\u001b[49m\u001b[43m)\u001b[49m\u001b[43m)\u001b[49m\u001b[43m \u001b[49m\u001b[38;5;129;43;01min\u001b[39;49;00m\u001b[43m \u001b[49m\u001b[43mproduct\u001b[49m\u001b[43m(\u001b[49m\n\u001b[0;32m    851\u001b[0m \u001b[43m        \u001b[49m\u001b[38;5;28;43menumerate\u001b[39;49m\u001b[43m(\u001b[49m\u001b[43mcandidate_params\u001b[49m\u001b[43m)\u001b[49m\u001b[43m,\u001b[49m\u001b[43m \u001b[49m\u001b[38;5;28;43menumerate\u001b[39;49m\u001b[43m(\u001b[49m\u001b[43mcv\u001b[49m\u001b[38;5;241;43m.\u001b[39;49m\u001b[43msplit\u001b[49m\u001b[43m(\u001b[49m\u001b[43mX\u001b[49m\u001b[43m,\u001b[49m\u001b[43m \u001b[49m\u001b[43my\u001b[49m\u001b[43m,\u001b[49m\u001b[43m \u001b[49m\u001b[43mgroups\u001b[49m\u001b[43m)\u001b[49m\u001b[43m)\u001b[49m\n\u001b[0;32m    852\u001b[0m \u001b[43m    \u001b[49m\u001b[43m)\u001b[49m\n\u001b[0;32m    853\u001b[0m \u001b[43m\u001b[49m\u001b[43m)\u001b[49m\n\u001b[0;32m    855\u001b[0m \u001b[38;5;28;01mif\u001b[39;00m \u001b[38;5;28mlen\u001b[39m(out) \u001b[38;5;241m<\u001b[39m \u001b[38;5;241m1\u001b[39m:\n\u001b[0;32m    856\u001b[0m     \u001b[38;5;28;01mraise\u001b[39;00m \u001b[38;5;167;01mValueError\u001b[39;00m(\n\u001b[0;32m    857\u001b[0m         \u001b[38;5;124m\"\u001b[39m\u001b[38;5;124mNo fits were performed. \u001b[39m\u001b[38;5;124m\"\u001b[39m\n\u001b[0;32m    858\u001b[0m         \u001b[38;5;124m\"\u001b[39m\u001b[38;5;124mWas the CV iterator empty? \u001b[39m\u001b[38;5;124m\"\u001b[39m\n\u001b[0;32m    859\u001b[0m         \u001b[38;5;124m\"\u001b[39m\u001b[38;5;124mWere there no candidates?\u001b[39m\u001b[38;5;124m\"\u001b[39m\n\u001b[0;32m    860\u001b[0m     )\n",
      "File \u001b[1;32m~\\anaconda3\\lib\\site-packages\\joblib\\parallel.py:1046\u001b[0m, in \u001b[0;36mParallel.__call__\u001b[1;34m(self, iterable)\u001b[0m\n\u001b[0;32m   1043\u001b[0m \u001b[38;5;28;01mif\u001b[39;00m \u001b[38;5;28mself\u001b[39m\u001b[38;5;241m.\u001b[39mdispatch_one_batch(iterator):\n\u001b[0;32m   1044\u001b[0m     \u001b[38;5;28mself\u001b[39m\u001b[38;5;241m.\u001b[39m_iterating \u001b[38;5;241m=\u001b[39m \u001b[38;5;28mself\u001b[39m\u001b[38;5;241m.\u001b[39m_original_iterator \u001b[38;5;129;01mis\u001b[39;00m \u001b[38;5;129;01mnot\u001b[39;00m \u001b[38;5;28;01mNone\u001b[39;00m\n\u001b[1;32m-> 1046\u001b[0m \u001b[38;5;28;01mwhile\u001b[39;00m \u001b[38;5;28;43mself\u001b[39;49m\u001b[38;5;241;43m.\u001b[39;49m\u001b[43mdispatch_one_batch\u001b[49m\u001b[43m(\u001b[49m\u001b[43miterator\u001b[49m\u001b[43m)\u001b[49m:\n\u001b[0;32m   1047\u001b[0m     \u001b[38;5;28;01mpass\u001b[39;00m\n\u001b[0;32m   1049\u001b[0m \u001b[38;5;28;01mif\u001b[39;00m pre_dispatch \u001b[38;5;241m==\u001b[39m \u001b[38;5;124m\"\u001b[39m\u001b[38;5;124mall\u001b[39m\u001b[38;5;124m\"\u001b[39m \u001b[38;5;129;01mor\u001b[39;00m n_jobs \u001b[38;5;241m==\u001b[39m \u001b[38;5;241m1\u001b[39m:\n\u001b[0;32m   1050\u001b[0m     \u001b[38;5;66;03m# The iterable was consumed all at once by the above for loop.\u001b[39;00m\n\u001b[0;32m   1051\u001b[0m     \u001b[38;5;66;03m# No need to wait for async callbacks to trigger to\u001b[39;00m\n\u001b[0;32m   1052\u001b[0m     \u001b[38;5;66;03m# consumption.\u001b[39;00m\n",
      "File \u001b[1;32m~\\anaconda3\\lib\\site-packages\\joblib\\parallel.py:861\u001b[0m, in \u001b[0;36mParallel.dispatch_one_batch\u001b[1;34m(self, iterator)\u001b[0m\n\u001b[0;32m    859\u001b[0m     \u001b[38;5;28;01mreturn\u001b[39;00m \u001b[38;5;28;01mFalse\u001b[39;00m\n\u001b[0;32m    860\u001b[0m \u001b[38;5;28;01melse\u001b[39;00m:\n\u001b[1;32m--> 861\u001b[0m     \u001b[38;5;28;43mself\u001b[39;49m\u001b[38;5;241;43m.\u001b[39;49m\u001b[43m_dispatch\u001b[49m\u001b[43m(\u001b[49m\u001b[43mtasks\u001b[49m\u001b[43m)\u001b[49m\n\u001b[0;32m    862\u001b[0m     \u001b[38;5;28;01mreturn\u001b[39;00m \u001b[38;5;28;01mTrue\u001b[39;00m\n",
      "File \u001b[1;32m~\\anaconda3\\lib\\site-packages\\joblib\\parallel.py:779\u001b[0m, in \u001b[0;36mParallel._dispatch\u001b[1;34m(self, batch)\u001b[0m\n\u001b[0;32m    777\u001b[0m \u001b[38;5;28;01mwith\u001b[39;00m \u001b[38;5;28mself\u001b[39m\u001b[38;5;241m.\u001b[39m_lock:\n\u001b[0;32m    778\u001b[0m     job_idx \u001b[38;5;241m=\u001b[39m \u001b[38;5;28mlen\u001b[39m(\u001b[38;5;28mself\u001b[39m\u001b[38;5;241m.\u001b[39m_jobs)\n\u001b[1;32m--> 779\u001b[0m     job \u001b[38;5;241m=\u001b[39m \u001b[38;5;28;43mself\u001b[39;49m\u001b[38;5;241;43m.\u001b[39;49m\u001b[43m_backend\u001b[49m\u001b[38;5;241;43m.\u001b[39;49m\u001b[43mapply_async\u001b[49m\u001b[43m(\u001b[49m\u001b[43mbatch\u001b[49m\u001b[43m,\u001b[49m\u001b[43m \u001b[49m\u001b[43mcallback\u001b[49m\u001b[38;5;241;43m=\u001b[39;49m\u001b[43mcb\u001b[49m\u001b[43m)\u001b[49m\n\u001b[0;32m    780\u001b[0m     \u001b[38;5;66;03m# A job can complete so quickly than its callback is\u001b[39;00m\n\u001b[0;32m    781\u001b[0m     \u001b[38;5;66;03m# called before we get here, causing self._jobs to\u001b[39;00m\n\u001b[0;32m    782\u001b[0m     \u001b[38;5;66;03m# grow. To ensure correct results ordering, .insert is\u001b[39;00m\n\u001b[0;32m    783\u001b[0m     \u001b[38;5;66;03m# used (rather than .append) in the following line\u001b[39;00m\n\u001b[0;32m    784\u001b[0m     \u001b[38;5;28mself\u001b[39m\u001b[38;5;241m.\u001b[39m_jobs\u001b[38;5;241m.\u001b[39minsert(job_idx, job)\n",
      "File \u001b[1;32m~\\anaconda3\\lib\\site-packages\\joblib\\_parallel_backends.py:208\u001b[0m, in \u001b[0;36mSequentialBackend.apply_async\u001b[1;34m(self, func, callback)\u001b[0m\n\u001b[0;32m    206\u001b[0m \u001b[38;5;28;01mdef\u001b[39;00m \u001b[38;5;21mapply_async\u001b[39m(\u001b[38;5;28mself\u001b[39m, func, callback\u001b[38;5;241m=\u001b[39m\u001b[38;5;28;01mNone\u001b[39;00m):\n\u001b[0;32m    207\u001b[0m     \u001b[38;5;124;03m\"\"\"Schedule a func to be run\"\"\"\u001b[39;00m\n\u001b[1;32m--> 208\u001b[0m     result \u001b[38;5;241m=\u001b[39m \u001b[43mImmediateResult\u001b[49m\u001b[43m(\u001b[49m\u001b[43mfunc\u001b[49m\u001b[43m)\u001b[49m\n\u001b[0;32m    209\u001b[0m     \u001b[38;5;28;01mif\u001b[39;00m callback:\n\u001b[0;32m    210\u001b[0m         callback(result)\n",
      "File \u001b[1;32m~\\anaconda3\\lib\\site-packages\\joblib\\_parallel_backends.py:572\u001b[0m, in \u001b[0;36mImmediateResult.__init__\u001b[1;34m(self, batch)\u001b[0m\n\u001b[0;32m    569\u001b[0m \u001b[38;5;28;01mdef\u001b[39;00m \u001b[38;5;21m__init__\u001b[39m(\u001b[38;5;28mself\u001b[39m, batch):\n\u001b[0;32m    570\u001b[0m     \u001b[38;5;66;03m# Don't delay the application, to avoid keeping the input\u001b[39;00m\n\u001b[0;32m    571\u001b[0m     \u001b[38;5;66;03m# arguments in memory\u001b[39;00m\n\u001b[1;32m--> 572\u001b[0m     \u001b[38;5;28mself\u001b[39m\u001b[38;5;241m.\u001b[39mresults \u001b[38;5;241m=\u001b[39m \u001b[43mbatch\u001b[49m\u001b[43m(\u001b[49m\u001b[43m)\u001b[49m\n",
      "File \u001b[1;32m~\\anaconda3\\lib\\site-packages\\joblib\\parallel.py:262\u001b[0m, in \u001b[0;36mBatchedCalls.__call__\u001b[1;34m(self)\u001b[0m\n\u001b[0;32m    258\u001b[0m \u001b[38;5;28;01mdef\u001b[39;00m \u001b[38;5;21m__call__\u001b[39m(\u001b[38;5;28mself\u001b[39m):\n\u001b[0;32m    259\u001b[0m     \u001b[38;5;66;03m# Set the default nested backend to self._backend but do not set the\u001b[39;00m\n\u001b[0;32m    260\u001b[0m     \u001b[38;5;66;03m# change the default number of processes to -1\u001b[39;00m\n\u001b[0;32m    261\u001b[0m     \u001b[38;5;28;01mwith\u001b[39;00m parallel_backend(\u001b[38;5;28mself\u001b[39m\u001b[38;5;241m.\u001b[39m_backend, n_jobs\u001b[38;5;241m=\u001b[39m\u001b[38;5;28mself\u001b[39m\u001b[38;5;241m.\u001b[39m_n_jobs):\n\u001b[1;32m--> 262\u001b[0m         \u001b[38;5;28;01mreturn\u001b[39;00m [func(\u001b[38;5;241m*\u001b[39margs, \u001b[38;5;241m*\u001b[39m\u001b[38;5;241m*\u001b[39mkwargs)\n\u001b[0;32m    263\u001b[0m                 \u001b[38;5;28;01mfor\u001b[39;00m func, args, kwargs \u001b[38;5;129;01min\u001b[39;00m \u001b[38;5;28mself\u001b[39m\u001b[38;5;241m.\u001b[39mitems]\n",
      "File \u001b[1;32m~\\anaconda3\\lib\\site-packages\\joblib\\parallel.py:262\u001b[0m, in \u001b[0;36m<listcomp>\u001b[1;34m(.0)\u001b[0m\n\u001b[0;32m    258\u001b[0m \u001b[38;5;28;01mdef\u001b[39;00m \u001b[38;5;21m__call__\u001b[39m(\u001b[38;5;28mself\u001b[39m):\n\u001b[0;32m    259\u001b[0m     \u001b[38;5;66;03m# Set the default nested backend to self._backend but do not set the\u001b[39;00m\n\u001b[0;32m    260\u001b[0m     \u001b[38;5;66;03m# change the default number of processes to -1\u001b[39;00m\n\u001b[0;32m    261\u001b[0m     \u001b[38;5;28;01mwith\u001b[39;00m parallel_backend(\u001b[38;5;28mself\u001b[39m\u001b[38;5;241m.\u001b[39m_backend, n_jobs\u001b[38;5;241m=\u001b[39m\u001b[38;5;28mself\u001b[39m\u001b[38;5;241m.\u001b[39m_n_jobs):\n\u001b[1;32m--> 262\u001b[0m         \u001b[38;5;28;01mreturn\u001b[39;00m [func(\u001b[38;5;241m*\u001b[39margs, \u001b[38;5;241m*\u001b[39m\u001b[38;5;241m*\u001b[39mkwargs)\n\u001b[0;32m    263\u001b[0m                 \u001b[38;5;28;01mfor\u001b[39;00m func, args, kwargs \u001b[38;5;129;01min\u001b[39;00m \u001b[38;5;28mself\u001b[39m\u001b[38;5;241m.\u001b[39mitems]\n",
      "File \u001b[1;32m~\\anaconda3\\lib\\site-packages\\sklearn\\utils\\fixes.py:216\u001b[0m, in \u001b[0;36m_FuncWrapper.__call__\u001b[1;34m(self, *args, **kwargs)\u001b[0m\n\u001b[0;32m    214\u001b[0m \u001b[38;5;28;01mdef\u001b[39;00m \u001b[38;5;21m__call__\u001b[39m(\u001b[38;5;28mself\u001b[39m, \u001b[38;5;241m*\u001b[39margs, \u001b[38;5;241m*\u001b[39m\u001b[38;5;241m*\u001b[39mkwargs):\n\u001b[0;32m    215\u001b[0m     \u001b[38;5;28;01mwith\u001b[39;00m config_context(\u001b[38;5;241m*\u001b[39m\u001b[38;5;241m*\u001b[39m\u001b[38;5;28mself\u001b[39m\u001b[38;5;241m.\u001b[39mconfig):\n\u001b[1;32m--> 216\u001b[0m         \u001b[38;5;28;01mreturn\u001b[39;00m \u001b[38;5;28mself\u001b[39m\u001b[38;5;241m.\u001b[39mfunction(\u001b[38;5;241m*\u001b[39margs, \u001b[38;5;241m*\u001b[39m\u001b[38;5;241m*\u001b[39mkwargs)\n",
      "File \u001b[1;32m~\\anaconda3\\lib\\site-packages\\sklearn\\model_selection\\_validation.py:702\u001b[0m, in \u001b[0;36m_fit_and_score\u001b[1;34m(estimator, X, y, scorer, train, test, verbose, parameters, fit_params, return_train_score, return_parameters, return_n_test_samples, return_times, return_estimator, split_progress, candidate_progress, error_score)\u001b[0m\n\u001b[0;32m    699\u001b[0m result[\u001b[38;5;124m\"\u001b[39m\u001b[38;5;124mfit_error\u001b[39m\u001b[38;5;124m\"\u001b[39m] \u001b[38;5;241m=\u001b[39m \u001b[38;5;28;01mNone\u001b[39;00m\n\u001b[0;32m    701\u001b[0m fit_time \u001b[38;5;241m=\u001b[39m time\u001b[38;5;241m.\u001b[39mtime() \u001b[38;5;241m-\u001b[39m start_time\n\u001b[1;32m--> 702\u001b[0m test_scores \u001b[38;5;241m=\u001b[39m \u001b[43m_score\u001b[49m\u001b[43m(\u001b[49m\u001b[43mestimator\u001b[49m\u001b[43m,\u001b[49m\u001b[43m \u001b[49m\u001b[43mX_test\u001b[49m\u001b[43m,\u001b[49m\u001b[43m \u001b[49m\u001b[43my_test\u001b[49m\u001b[43m,\u001b[49m\u001b[43m \u001b[49m\u001b[43mscorer\u001b[49m\u001b[43m,\u001b[49m\u001b[43m \u001b[49m\u001b[43merror_score\u001b[49m\u001b[43m)\u001b[49m\n\u001b[0;32m    703\u001b[0m score_time \u001b[38;5;241m=\u001b[39m time\u001b[38;5;241m.\u001b[39mtime() \u001b[38;5;241m-\u001b[39m start_time \u001b[38;5;241m-\u001b[39m fit_time\n\u001b[0;32m    704\u001b[0m \u001b[38;5;28;01mif\u001b[39;00m return_train_score:\n",
      "File \u001b[1;32m~\\anaconda3\\lib\\site-packages\\sklearn\\model_selection\\_validation.py:761\u001b[0m, in \u001b[0;36m_score\u001b[1;34m(estimator, X_test, y_test, scorer, error_score)\u001b[0m\n\u001b[0;32m    759\u001b[0m         scores \u001b[38;5;241m=\u001b[39m scorer(estimator, X_test)\n\u001b[0;32m    760\u001b[0m     \u001b[38;5;28;01melse\u001b[39;00m:\n\u001b[1;32m--> 761\u001b[0m         scores \u001b[38;5;241m=\u001b[39m \u001b[43mscorer\u001b[49m\u001b[43m(\u001b[49m\u001b[43mestimator\u001b[49m\u001b[43m,\u001b[49m\u001b[43m \u001b[49m\u001b[43mX_test\u001b[49m\u001b[43m,\u001b[49m\u001b[43m \u001b[49m\u001b[43my_test\u001b[49m\u001b[43m)\u001b[49m\n\u001b[0;32m    762\u001b[0m \u001b[38;5;28;01mexcept\u001b[39;00m \u001b[38;5;167;01mException\u001b[39;00m:\n\u001b[0;32m    763\u001b[0m     \u001b[38;5;28;01mif\u001b[39;00m error_score \u001b[38;5;241m==\u001b[39m \u001b[38;5;124m\"\u001b[39m\u001b[38;5;124mraise\u001b[39m\u001b[38;5;124m\"\u001b[39m:\n",
      "File \u001b[1;32m~\\anaconda3\\lib\\site-packages\\sklearn\\metrics\\_scorer.py:216\u001b[0m, in \u001b[0;36m_BaseScorer.__call__\u001b[1;34m(self, estimator, X, y_true, sample_weight)\u001b[0m\n\u001b[0;32m    193\u001b[0m \u001b[38;5;28;01mdef\u001b[39;00m \u001b[38;5;21m__call__\u001b[39m(\u001b[38;5;28mself\u001b[39m, estimator, X, y_true, sample_weight\u001b[38;5;241m=\u001b[39m\u001b[38;5;28;01mNone\u001b[39;00m):\n\u001b[0;32m    194\u001b[0m     \u001b[38;5;124;03m\"\"\"Evaluate predicted target values for X relative to y_true.\u001b[39;00m\n\u001b[0;32m    195\u001b[0m \n\u001b[0;32m    196\u001b[0m \u001b[38;5;124;03m    Parameters\u001b[39;00m\n\u001b[1;32m   (...)\u001b[0m\n\u001b[0;32m    214\u001b[0m \u001b[38;5;124;03m        Score function applied to prediction of estimator on X.\u001b[39;00m\n\u001b[0;32m    215\u001b[0m \u001b[38;5;124;03m    \"\"\"\u001b[39;00m\n\u001b[1;32m--> 216\u001b[0m     \u001b[38;5;28;01mreturn\u001b[39;00m \u001b[38;5;28;43mself\u001b[39;49m\u001b[38;5;241;43m.\u001b[39;49m\u001b[43m_score\u001b[49m\u001b[43m(\u001b[49m\n\u001b[0;32m    217\u001b[0m \u001b[43m        \u001b[49m\u001b[43mpartial\u001b[49m\u001b[43m(\u001b[49m\u001b[43m_cached_call\u001b[49m\u001b[43m,\u001b[49m\u001b[43m \u001b[49m\u001b[38;5;28;43;01mNone\u001b[39;49;00m\u001b[43m)\u001b[49m\u001b[43m,\u001b[49m\n\u001b[0;32m    218\u001b[0m \u001b[43m        \u001b[49m\u001b[43mestimator\u001b[49m\u001b[43m,\u001b[49m\n\u001b[0;32m    219\u001b[0m \u001b[43m        \u001b[49m\u001b[43mX\u001b[49m\u001b[43m,\u001b[49m\n\u001b[0;32m    220\u001b[0m \u001b[43m        \u001b[49m\u001b[43my_true\u001b[49m\u001b[43m,\u001b[49m\n\u001b[0;32m    221\u001b[0m \u001b[43m        \u001b[49m\u001b[43msample_weight\u001b[49m\u001b[38;5;241;43m=\u001b[39;49m\u001b[43msample_weight\u001b[49m\u001b[43m,\u001b[49m\n\u001b[0;32m    222\u001b[0m \u001b[43m    \u001b[49m\u001b[43m)\u001b[49m\n",
      "File \u001b[1;32m~\\anaconda3\\lib\\site-packages\\sklearn\\metrics\\_scorer.py:258\u001b[0m, in \u001b[0;36m_PredictScorer._score\u001b[1;34m(self, method_caller, estimator, X, y_true, sample_weight)\u001b[0m\n\u001b[0;32m    230\u001b[0m \u001b[38;5;28;01mdef\u001b[39;00m \u001b[38;5;21m_score\u001b[39m(\u001b[38;5;28mself\u001b[39m, method_caller, estimator, X, y_true, sample_weight\u001b[38;5;241m=\u001b[39m\u001b[38;5;28;01mNone\u001b[39;00m):\n\u001b[0;32m    231\u001b[0m     \u001b[38;5;124;03m\"\"\"Evaluate predicted target values for X relative to y_true.\u001b[39;00m\n\u001b[0;32m    232\u001b[0m \n\u001b[0;32m    233\u001b[0m \u001b[38;5;124;03m    Parameters\u001b[39;00m\n\u001b[1;32m   (...)\u001b[0m\n\u001b[0;32m    255\u001b[0m \u001b[38;5;124;03m        Score function applied to prediction of estimator on X.\u001b[39;00m\n\u001b[0;32m    256\u001b[0m \u001b[38;5;124;03m    \"\"\"\u001b[39;00m\n\u001b[1;32m--> 258\u001b[0m     y_pred \u001b[38;5;241m=\u001b[39m \u001b[43mmethod_caller\u001b[49m\u001b[43m(\u001b[49m\u001b[43mestimator\u001b[49m\u001b[43m,\u001b[49m\u001b[43m \u001b[49m\u001b[38;5;124;43m\"\u001b[39;49m\u001b[38;5;124;43mpredict\u001b[39;49m\u001b[38;5;124;43m\"\u001b[39;49m\u001b[43m,\u001b[49m\u001b[43m \u001b[49m\u001b[43mX\u001b[49m\u001b[43m)\u001b[49m\n\u001b[0;32m    259\u001b[0m     \u001b[38;5;28;01mif\u001b[39;00m sample_weight \u001b[38;5;129;01mis\u001b[39;00m \u001b[38;5;129;01mnot\u001b[39;00m \u001b[38;5;28;01mNone\u001b[39;00m:\n\u001b[0;32m    260\u001b[0m         \u001b[38;5;28;01mreturn\u001b[39;00m \u001b[38;5;28mself\u001b[39m\u001b[38;5;241m.\u001b[39m_sign \u001b[38;5;241m*\u001b[39m \u001b[38;5;28mself\u001b[39m\u001b[38;5;241m.\u001b[39m_score_func(\n\u001b[0;32m    261\u001b[0m             y_true, y_pred, sample_weight\u001b[38;5;241m=\u001b[39msample_weight, \u001b[38;5;241m*\u001b[39m\u001b[38;5;241m*\u001b[39m\u001b[38;5;28mself\u001b[39m\u001b[38;5;241m.\u001b[39m_kwargs\n\u001b[0;32m    262\u001b[0m         )\n",
      "File \u001b[1;32m~\\anaconda3\\lib\\site-packages\\sklearn\\metrics\\_scorer.py:68\u001b[0m, in \u001b[0;36m_cached_call\u001b[1;34m(cache, estimator, method, *args, **kwargs)\u001b[0m\n\u001b[0;32m     66\u001b[0m \u001b[38;5;124;03m\"\"\"Call estimator with method and args and kwargs.\"\"\"\u001b[39;00m\n\u001b[0;32m     67\u001b[0m \u001b[38;5;28;01mif\u001b[39;00m cache \u001b[38;5;129;01mis\u001b[39;00m \u001b[38;5;28;01mNone\u001b[39;00m:\n\u001b[1;32m---> 68\u001b[0m     \u001b[38;5;28;01mreturn\u001b[39;00m \u001b[38;5;28mgetattr\u001b[39m(estimator, method)(\u001b[38;5;241m*\u001b[39margs, \u001b[38;5;241m*\u001b[39m\u001b[38;5;241m*\u001b[39mkwargs)\n\u001b[0;32m     70\u001b[0m \u001b[38;5;28;01mtry\u001b[39;00m:\n\u001b[0;32m     71\u001b[0m     \u001b[38;5;28;01mreturn\u001b[39;00m cache[method]\n",
      "File \u001b[1;32m~\\anaconda3\\lib\\site-packages\\sklearn\\tree\\_classes.py:468\u001b[0m, in \u001b[0;36mBaseDecisionTree.predict\u001b[1;34m(self, X, check_input)\u001b[0m\n\u001b[0;32m    466\u001b[0m check_is_fitted(\u001b[38;5;28mself\u001b[39m)\n\u001b[0;32m    467\u001b[0m X \u001b[38;5;241m=\u001b[39m \u001b[38;5;28mself\u001b[39m\u001b[38;5;241m.\u001b[39m_validate_X_predict(X, check_input)\n\u001b[1;32m--> 468\u001b[0m proba \u001b[38;5;241m=\u001b[39m \u001b[38;5;28;43mself\u001b[39;49m\u001b[38;5;241;43m.\u001b[39;49m\u001b[43mtree_\u001b[49m\u001b[38;5;241;43m.\u001b[39;49m\u001b[43mpredict\u001b[49m\u001b[43m(\u001b[49m\u001b[43mX\u001b[49m\u001b[43m)\u001b[49m\n\u001b[0;32m    469\u001b[0m n_samples \u001b[38;5;241m=\u001b[39m X\u001b[38;5;241m.\u001b[39mshape[\u001b[38;5;241m0\u001b[39m]\n\u001b[0;32m    471\u001b[0m \u001b[38;5;66;03m# Classification\u001b[39;00m\n",
      "\u001b[1;31mKeyboardInterrupt\u001b[0m: "
     ]
    }
   ],
   "source": [
    "#최적의 하이퍼 파라미터 찾기 GridsSearchCV\n",
    "from sklearn.model_selection import GridSearchCV\n",
    "parameters = {'max_depth': range(12,20),\n",
    "              'min_samples_split' : range(1,101), 'min_samples_leaf': range(1,61) }\n",
    "grid_dclf = GridSearchCV(tree_model, param_grid=parameters, scoring='accuracy', cv=5)\n",
    "grid_dclf.fit(X_train, Y_train)\n",
    "\n",
    "print(\"GridSearchCV 최적의 하이퍼 파라미터: \", grid_dclf.best_params_)\n",
    "print(\"GridSearchCV 최고 정확도: {0:.4f} \".format(grid_dclf.best_score_))\n",
    "best_dclf = grid_dclf.best_estimator_\n",
    "\n",
    "# GridSearchCV의 최적 하이퍼 파라미터로 학습된 Estimator로 예측 및 평가 수행 \n",
    "depredictions = best_dclf.predict(X_test)\n",
    "\n"
   ]
  },
  {
   "cell_type": "code",
   "execution_count": null,
   "id": "c8a70a77",
   "metadata": {},
   "outputs": [],
   "source": []
  },
  {
   "cell_type": "markdown",
   "id": "aab89e36",
   "metadata": {},
   "source": [
    "####  tree 모델 특성 중요도"
   ]
  },
  {
   "cell_type": "code",
   "execution_count": 941,
   "id": "55d27c36",
   "metadata": {},
   "outputs": [],
   "source": [
    "fi=tree_model.feature_importances_"
   ]
  },
  {
   "cell_type": "code",
   "execution_count": 942,
   "id": "887ce586",
   "metadata": {
    "scrolled": true
   },
   "outputs": [
    {
     "ename": "ValueError",
     "evalue": "Shape of passed values is (25, 1), indices imply (19, 1)",
     "output_type": "error",
     "traceback": [
      "\u001b[1;31m---------------------------------------------------------------------------\u001b[0m",
      "\u001b[1;31mValueError\u001b[0m                                Traceback (most recent call last)",
      "Input \u001b[1;32mIn [942]\u001b[0m, in \u001b[0;36m<cell line: 1>\u001b[1;34m()\u001b[0m\n\u001b[1;32m----> 1\u001b[0m importance_df \u001b[38;5;241m=\u001b[39m \u001b[43mpd\u001b[49m\u001b[38;5;241;43m.\u001b[39;49m\u001b[43mDataFrame\u001b[49m\u001b[43m(\u001b[49m\u001b[43mfi\u001b[49m\u001b[43m,\u001b[49m\u001b[43m \u001b[49m\u001b[43mindex\u001b[49m\u001b[38;5;241;43m=\u001b[39;49m\u001b[43mX_train01\u001b[49m\u001b[38;5;241;43m.\u001b[39;49m\u001b[43mcolumns\u001b[49m\u001b[43m)\u001b[49m\n\u001b[0;32m      2\u001b[0m importance_df\u001b[38;5;241m.\u001b[39msort_values(by\u001b[38;5;241m=\u001b[39m \u001b[38;5;241m0\u001b[39m, ascending\u001b[38;5;241m=\u001b[39m \u001b[38;5;28;01mFalse\u001b[39;00m)\n",
      "File \u001b[1;32m~\\anaconda3\\lib\\site-packages\\pandas\\core\\frame.py:694\u001b[0m, in \u001b[0;36mDataFrame.__init__\u001b[1;34m(self, data, index, columns, dtype, copy)\u001b[0m\n\u001b[0;32m    684\u001b[0m         mgr \u001b[38;5;241m=\u001b[39m dict_to_mgr(\n\u001b[0;32m    685\u001b[0m             \u001b[38;5;66;03m# error: Item \"ndarray\" of \"Union[ndarray, Series, Index]\" has no\u001b[39;00m\n\u001b[0;32m    686\u001b[0m             \u001b[38;5;66;03m# attribute \"name\"\u001b[39;00m\n\u001b[1;32m   (...)\u001b[0m\n\u001b[0;32m    691\u001b[0m             typ\u001b[38;5;241m=\u001b[39mmanager,\n\u001b[0;32m    692\u001b[0m         )\n\u001b[0;32m    693\u001b[0m     \u001b[38;5;28;01melse\u001b[39;00m:\n\u001b[1;32m--> 694\u001b[0m         mgr \u001b[38;5;241m=\u001b[39m \u001b[43mndarray_to_mgr\u001b[49m\u001b[43m(\u001b[49m\n\u001b[0;32m    695\u001b[0m \u001b[43m            \u001b[49m\u001b[43mdata\u001b[49m\u001b[43m,\u001b[49m\n\u001b[0;32m    696\u001b[0m \u001b[43m            \u001b[49m\u001b[43mindex\u001b[49m\u001b[43m,\u001b[49m\n\u001b[0;32m    697\u001b[0m \u001b[43m            \u001b[49m\u001b[43mcolumns\u001b[49m\u001b[43m,\u001b[49m\n\u001b[0;32m    698\u001b[0m \u001b[43m            \u001b[49m\u001b[43mdtype\u001b[49m\u001b[38;5;241;43m=\u001b[39;49m\u001b[43mdtype\u001b[49m\u001b[43m,\u001b[49m\n\u001b[0;32m    699\u001b[0m \u001b[43m            \u001b[49m\u001b[43mcopy\u001b[49m\u001b[38;5;241;43m=\u001b[39;49m\u001b[43mcopy\u001b[49m\u001b[43m,\u001b[49m\n\u001b[0;32m    700\u001b[0m \u001b[43m            \u001b[49m\u001b[43mtyp\u001b[49m\u001b[38;5;241;43m=\u001b[39;49m\u001b[43mmanager\u001b[49m\u001b[43m,\u001b[49m\n\u001b[0;32m    701\u001b[0m \u001b[43m        \u001b[49m\u001b[43m)\u001b[49m\n\u001b[0;32m    703\u001b[0m \u001b[38;5;66;03m# For data is list-like, or Iterable (will consume into list)\u001b[39;00m\n\u001b[0;32m    704\u001b[0m \u001b[38;5;28;01melif\u001b[39;00m is_list_like(data):\n",
      "File \u001b[1;32m~\\anaconda3\\lib\\site-packages\\pandas\\core\\internals\\construction.py:351\u001b[0m, in \u001b[0;36mndarray_to_mgr\u001b[1;34m(values, index, columns, dtype, copy, typ)\u001b[0m\n\u001b[0;32m    346\u001b[0m \u001b[38;5;66;03m# _prep_ndarray ensures that values.ndim == 2 at this point\u001b[39;00m\n\u001b[0;32m    347\u001b[0m index, columns \u001b[38;5;241m=\u001b[39m _get_axes(\n\u001b[0;32m    348\u001b[0m     values\u001b[38;5;241m.\u001b[39mshape[\u001b[38;5;241m0\u001b[39m], values\u001b[38;5;241m.\u001b[39mshape[\u001b[38;5;241m1\u001b[39m], index\u001b[38;5;241m=\u001b[39mindex, columns\u001b[38;5;241m=\u001b[39mcolumns\n\u001b[0;32m    349\u001b[0m )\n\u001b[1;32m--> 351\u001b[0m \u001b[43m_check_values_indices_shape_match\u001b[49m\u001b[43m(\u001b[49m\u001b[43mvalues\u001b[49m\u001b[43m,\u001b[49m\u001b[43m \u001b[49m\u001b[43mindex\u001b[49m\u001b[43m,\u001b[49m\u001b[43m \u001b[49m\u001b[43mcolumns\u001b[49m\u001b[43m)\u001b[49m\n\u001b[0;32m    353\u001b[0m \u001b[38;5;28;01mif\u001b[39;00m typ \u001b[38;5;241m==\u001b[39m \u001b[38;5;124m\"\u001b[39m\u001b[38;5;124marray\u001b[39m\u001b[38;5;124m\"\u001b[39m:\n\u001b[0;32m    355\u001b[0m     \u001b[38;5;28;01mif\u001b[39;00m \u001b[38;5;28missubclass\u001b[39m(values\u001b[38;5;241m.\u001b[39mdtype\u001b[38;5;241m.\u001b[39mtype, \u001b[38;5;28mstr\u001b[39m):\n",
      "File \u001b[1;32m~\\anaconda3\\lib\\site-packages\\pandas\\core\\internals\\construction.py:422\u001b[0m, in \u001b[0;36m_check_values_indices_shape_match\u001b[1;34m(values, index, columns)\u001b[0m\n\u001b[0;32m    420\u001b[0m passed \u001b[38;5;241m=\u001b[39m values\u001b[38;5;241m.\u001b[39mshape\n\u001b[0;32m    421\u001b[0m implied \u001b[38;5;241m=\u001b[39m (\u001b[38;5;28mlen\u001b[39m(index), \u001b[38;5;28mlen\u001b[39m(columns))\n\u001b[1;32m--> 422\u001b[0m \u001b[38;5;28;01mraise\u001b[39;00m \u001b[38;5;167;01mValueError\u001b[39;00m(\u001b[38;5;124mf\u001b[39m\u001b[38;5;124m\"\u001b[39m\u001b[38;5;124mShape of passed values is \u001b[39m\u001b[38;5;132;01m{\u001b[39;00mpassed\u001b[38;5;132;01m}\u001b[39;00m\u001b[38;5;124m, indices imply \u001b[39m\u001b[38;5;132;01m{\u001b[39;00mimplied\u001b[38;5;132;01m}\u001b[39;00m\u001b[38;5;124m\"\u001b[39m)\n",
      "\u001b[1;31mValueError\u001b[0m: Shape of passed values is (25, 1), indices imply (19, 1)"
     ]
    }
   ],
   "source": [
    "importance_df = pd.DataFrame(fi, index=X_train01.columns)\n",
    "importance_df.sort_values(by= 0, ascending= False)\n",
    "#odor_n 특성 선택까지 "
   ]
  },
  {
   "cell_type": "code",
   "execution_count": 695,
   "id": "b559d45c",
   "metadata": {},
   "outputs": [
    {
     "data": {
      "text/plain": [
       "DecisionTreeClassifier(max_depth=6, min_samples_leaf=42, min_samples_split=11)"
      ]
     },
     "execution_count": 695,
     "metadata": {},
     "output_type": "execute_result"
    }
   ],
   "source": [
    "tree_model_1 = DecisionTreeClassifier(max_depth= 6, min_samples_leaf= 42, min_samples_split= 11)\n",
    "tree_model_1.fit(X_train01, Y_train01)\n",
    "               #andom_state=46, max_depth=5, min_samples_leaf=12, min_samples_split=2"
   ]
  },
  {
   "cell_type": "code",
   "execution_count": 697,
   "id": "af7d88f7",
   "metadata": {},
   "outputs": [],
   "source": [
    "result_tree_training= cross_val_score(tree_model_1, X_train01,\n",
    "                            Y_train01, cv=5)"
   ]
  },
  {
   "cell_type": "code",
   "execution_count": 698,
   "id": "8dfc1d7c",
   "metadata": {},
   "outputs": [
    {
     "data": {
      "text/plain": [
       "array([0.65428571, 0.66214286, 0.66928571, 0.66714286, 0.70050036])"
      ]
     },
     "execution_count": 698,
     "metadata": {},
     "output_type": "execute_result"
    }
   ],
   "source": [
    "result_tree_training"
   ]
  },
  {
   "cell_type": "code",
   "execution_count": 699,
   "id": "c27789d6",
   "metadata": {},
   "outputs": [
    {
     "data": {
      "text/plain": [
       "0.6706715000510568"
      ]
     },
     "execution_count": 699,
     "metadata": {},
     "output_type": "execute_result"
    }
   ],
   "source": [
    "result_tree_training.mean()"
   ]
  },
  {
   "cell_type": "code",
   "execution_count": 536,
   "id": "9c4b9f50",
   "metadata": {},
   "outputs": [],
   "source": [
    "result_tree_test= cross_val_score(tree_model_1, X_test1,\n",
    "                            Y_test1, cv=5)"
   ]
  },
  {
   "cell_type": "code",
   "execution_count": 537,
   "id": "18d0dfec",
   "metadata": {},
   "outputs": [
    {
     "data": {
      "text/plain": [
       "array([0.62857143, 0.55      , 0.57857143, 0.7       , 0.67142857])"
      ]
     },
     "execution_count": 537,
     "metadata": {},
     "output_type": "execute_result"
    }
   ],
   "source": [
    "result_tree_test"
   ]
  },
  {
   "cell_type": "code",
   "execution_count": 538,
   "id": "670338d7",
   "metadata": {},
   "outputs": [
    {
     "data": {
      "text/plain": [
       "0.6257142857142857"
      ]
     },
     "execution_count": 538,
     "metadata": {},
     "output_type": "execute_result"
    }
   ],
   "source": [
    "result_tree_test.mean()"
   ]
  },
  {
   "cell_type": "code",
   "execution_count": 539,
   "id": "073a96e2",
   "metadata": {},
   "outputs": [],
   "source": [
    "result_tree_test= cross_val_score(tree_model, X_test1,\n",
    "                            Y_test1, cv=5)"
   ]
  },
  {
   "cell_type": "code",
   "execution_count": 540,
   "id": "be035aea",
   "metadata": {},
   "outputs": [
    {
     "data": {
      "text/plain": [
       "0.6257142857142857"
      ]
     },
     "execution_count": 540,
     "metadata": {},
     "output_type": "execute_result"
    }
   ],
   "source": [
    "result_tree_test.mean()"
   ]
  },
  {
   "cell_type": "code",
   "execution_count": 541,
   "id": "004fab2c",
   "metadata": {},
   "outputs": [
    {
     "data": {
      "text/plain": [
       "0.6671428571428571"
      ]
     },
     "execution_count": 541,
     "metadata": {},
     "output_type": "execute_result"
    }
   ],
   "source": [
    "tree_model_1.score(X_test1, Y_test1)"
   ]
  },
  {
   "cell_type": "code",
   "execution_count": 542,
   "id": "972d4d8f",
   "metadata": {},
   "outputs": [
    {
     "data": {
      "text/plain": [
       "0.6716939196697889"
      ]
     },
     "execution_count": 542,
     "metadata": {},
     "output_type": "execute_result"
    }
   ],
   "source": [
    "tree_model_1.score(X_train1, Y_train1)"
   ]
  },
  {
   "cell_type": "code",
   "execution_count": 543,
   "id": "f8fc60a9",
   "metadata": {},
   "outputs": [
    {
     "data": {
      "text/plain": [
       "array([1, 0, 1, ..., 0, 0, 0], dtype=int64)"
      ]
     },
     "execution_count": 543,
     "metadata": {},
     "output_type": "execute_result"
    }
   ],
   "source": [
    "pre_ran = tree_model_1.predict(X_test)\n",
    "pre_ran"
   ]
  },
  {
   "cell_type": "code",
   "execution_count": null,
   "id": "d027b0d4",
   "metadata": {},
   "outputs": [],
   "source": [
    "submit[\"Reached.on.Time_Y.N\"]=pre_ran"
   ]
  },
  {
   "cell_type": "code",
   "execution_count": 545,
   "id": "7ec166c9",
   "metadata": {},
   "outputs": [],
   "source": [
    "submit.to_csv(\"1110__3.csv\", index=False)"
   ]
  },
  {
   "cell_type": "markdown",
   "id": "0a762933",
   "metadata": {},
   "source": [
    "### 랜덤포레스트"
   ]
  },
  {
   "cell_type": "code",
   "execution_count": 58,
   "id": "db85f60b",
   "metadata": {},
   "outputs": [],
   "source": [
    "from sklearn.ensemble import RandomForestClassifier"
   ]
  },
  {
   "cell_type": "code",
   "execution_count": 59,
   "id": "9c30d02b",
   "metadata": {},
   "outputs": [],
   "source": [
    "rf_model = RandomForestClassifier()"
   ]
  },
  {
   "cell_type": "code",
   "execution_count": 60,
   "id": "88177511",
   "metadata": {
    "scrolled": true
   },
   "outputs": [
    {
     "data": {
      "text/plain": [
       "RandomForestClassifier()"
      ]
     },
     "execution_count": 60,
     "metadata": {},
     "output_type": "execute_result"
    }
   ],
   "source": [
    "rf_model.fit(X_train, Y_train)"
   ]
  },
  {
   "cell_type": "code",
   "execution_count": 61,
   "id": "e53026fc",
   "metadata": {},
   "outputs": [],
   "source": [
    "def gridsearch(model , param):\n",
    "    gscv = GridSearchCV(estimator = model, \n",
    "                         param_grid = param, \n",
    "                         scoring='accuracy',\n",
    "                         cv = 4,\n",
    "                         n_jobs = -1)\n",
    "    gscv.fit(X_train , Y_train)\n",
    "    result = gscv.best_params_\n",
    "    return result"
   ]
  },
  {
   "cell_type": "code",
   "execution_count": 1434,
   "id": "078ef1f8",
   "metadata": {},
   "outputs": [
    {
     "name": "stdout",
     "output_type": "stream",
     "text": [
      "Best parameters for Random Forest:  {'criterion': 'gini', 'max_depth': 8, 'max_features': 'auto', 'min_samples_split': 8, 'n_estimators': 600}\n"
     ]
    }
   ],
   "source": [
    "gs_rf = RandomForestClassifier(criterion = \"gini\", max_depth= 8, max_features= 'auto', min_samples_split= 8, n_estimators= 600)\n",
    "rf_params = {\n",
    " 'n_estimators': [600, 610],\n",
    " 'criterion': ('gini','entropy'),\n",
    " 'max_depth': [ 8, 9, 10],\n",
    " 'min_samples_split': [6,7, 8],\n",
    " 'max_features': (\"auto\", \"sqrt\", \"log2\") }\n",
    "print('Best parameters for Random Forest: ', gridsearch(gs_rf , rf_params))"
   ]
  },
  {
   "cell_type": "code",
   "execution_count": 62,
   "id": "fd30bf14",
   "metadata": {},
   "outputs": [],
   "source": [
    "gs_rf = RandomForestClassifier(criterion = \"gini\", max_depth= 8, max_features= 'auto', min_samples_split= 8, n_estimators= 600)"
   ]
  },
  {
   "cell_type": "code",
   "execution_count": 64,
   "id": "b68db877",
   "metadata": {
    "scrolled": true
   },
   "outputs": [
    {
     "data": {
      "text/plain": [
       "array([0.66142857, 0.65714286, 0.64928571, 0.67285714, 0.68406004])"
      ]
     },
     "execution_count": 64,
     "metadata": {},
     "output_type": "execute_result"
    }
   ],
   "source": [
    "result"
   ]
  },
  {
   "cell_type": "code",
   "execution_count": 65,
   "id": "bf3506df",
   "metadata": {},
   "outputs": [
    {
     "data": {
      "text/plain": [
       "0.6649548657204125"
      ]
     },
     "execution_count": 65,
     "metadata": {},
     "output_type": "execute_result"
    }
   ],
   "source": [
    "result.mean()"
   ]
  },
  {
   "cell_type": "code",
   "execution_count": 949,
   "id": "41f973f7",
   "metadata": {},
   "outputs": [
    {
     "ename": "NameError",
     "evalue": "name 'rf_model_1' is not defined",
     "output_type": "error",
     "traceback": [
      "\u001b[1;31m---------------------------------------------------------------------------\u001b[0m",
      "\u001b[1;31mNameError\u001b[0m                                 Traceback (most recent call last)",
      "Input \u001b[1;32mIn [949]\u001b[0m, in \u001b[0;36m<cell line: 1>\u001b[1;34m()\u001b[0m\n\u001b[1;32m----> 1\u001b[0m result_rf_model_training\u001b[38;5;241m=\u001b[39m cross_val_score(\u001b[43mrf_model_1\u001b[49m, X_train1,\n\u001b[0;32m      2\u001b[0m                             Y_train1, cv\u001b[38;5;241m=\u001b[39m\u001b[38;5;241m5\u001b[39m)\n",
      "\u001b[1;31mNameError\u001b[0m: name 'rf_model_1' is not defined"
     ]
    }
   ],
   "source": [
    "result_rf_model_training= cross_val_score(rf_model_1, X_train1,\n",
    "                            Y_train1, cv=5)"
   ]
  },
  {
   "cell_type": "code",
   "execution_count": 1071,
   "id": "c4698a73",
   "metadata": {},
   "outputs": [
    {
     "data": {
      "text/plain": [
       "array([0.6452381 , 0.6297619 , 0.63214286, 0.66190476, 0.61978546])"
      ]
     },
     "execution_count": 1071,
     "metadata": {},
     "output_type": "execute_result"
    }
   ],
   "source": [
    "result_rf_model_training"
   ]
  },
  {
   "cell_type": "code",
   "execution_count": 1072,
   "id": "8eae1201",
   "metadata": {},
   "outputs": [
    {
     "data": {
      "text/plain": [
       "0.6377666155854474"
      ]
     },
     "execution_count": 1072,
     "metadata": {},
     "output_type": "execute_result"
    }
   ],
   "source": [
    "result_rf_model_training.mean()"
   ]
  },
  {
   "cell_type": "code",
   "execution_count": 1073,
   "id": "3b260f46",
   "metadata": {},
   "outputs": [],
   "source": [
    "result_rf_model_test= cross_val_score(rf_model_1, X_test1,\n",
    "                            Y_test1, cv=5)"
   ]
  },
  {
   "cell_type": "code",
   "execution_count": 1077,
   "id": "f94eff32",
   "metadata": {},
   "outputs": [
    {
     "data": {
      "text/plain": [
       "array([0.625     , 0.625     , 0.63928571, 0.61785714, 0.62857143])"
      ]
     },
     "execution_count": 1077,
     "metadata": {},
     "output_type": "execute_result"
    }
   ],
   "source": [
    "result_rf_model_test"
   ]
  },
  {
   "cell_type": "code",
   "execution_count": 1075,
   "id": "da2ba1bb",
   "metadata": {},
   "outputs": [
    {
     "data": {
      "text/plain": [
       "0.6271428571428571"
      ]
     },
     "execution_count": 1075,
     "metadata": {},
     "output_type": "execute_result"
    }
   ],
   "source": [
    "result_rf_model_test.mean()"
   ]
  },
  {
   "cell_type": "code",
   "execution_count": 1088,
   "id": "c0b72534",
   "metadata": {},
   "outputs": [
    {
     "data": {
      "text/plain": [
       "0.9168849726125268"
      ]
     },
     "execution_count": 1088,
     "metadata": {},
     "output_type": "execute_result"
    }
   ],
   "source": [
    "rf_model_1.score(X_train1, Y_train1)"
   ]
  },
  {
   "cell_type": "code",
   "execution_count": 1089,
   "id": "c0ce2f2d",
   "metadata": {},
   "outputs": [
    {
     "data": {
      "text/plain": [
       "0.6303571428571428"
      ]
     },
     "execution_count": 1089,
     "metadata": {},
     "output_type": "execute_result"
    }
   ],
   "source": [
    "rf_model_1.score(X_test1, Y_test1)"
   ]
  },
  {
   "cell_type": "code",
   "execution_count": null,
   "id": "76186848",
   "metadata": {},
   "outputs": [],
   "source": []
  },
  {
   "cell_type": "code",
   "execution_count": 380,
   "id": "860dbf87",
   "metadata": {
    "collapsed": true
   },
   "outputs": [
    {
     "ename": "KeyboardInterrupt",
     "evalue": "",
     "output_type": "error",
     "traceback": [
      "\u001b[1;31m---------------------------------------------------------------------------\u001b[0m",
      "\u001b[1;31mKeyboardInterrupt\u001b[0m                         Traceback (most recent call last)",
      "Input \u001b[1;32mIn [380]\u001b[0m, in \u001b[0;36m<cell line: 8>\u001b[1;34m()\u001b[0m\n\u001b[0;32m      5\u001b[0m rf_clf \u001b[38;5;241m=\u001b[39m RandomForestClassifier()\n\u001b[0;32m      7\u001b[0m grid_dclf \u001b[38;5;241m=\u001b[39m GridSearchCV(rf_clf, param_grid\u001b[38;5;241m=\u001b[39mparameters, scoring\u001b[38;5;241m=\u001b[39m\u001b[38;5;124m'\u001b[39m\u001b[38;5;124maccuracy\u001b[39m\u001b[38;5;124m'\u001b[39m, cv\u001b[38;5;241m=\u001b[39m\u001b[38;5;241m5\u001b[39m, n_jobs\u001b[38;5;241m=\u001b[39m\u001b[38;5;241m-\u001b[39m\u001b[38;5;241m1\u001b[39m)\n\u001b[1;32m----> 8\u001b[0m \u001b[43mgrid_dclf\u001b[49m\u001b[38;5;241;43m.\u001b[39;49m\u001b[43mfit\u001b[49m\u001b[43m(\u001b[49m\u001b[43mX_train\u001b[49m\u001b[43m,\u001b[49m\u001b[43m \u001b[49m\u001b[43mY_train\u001b[49m\u001b[43m)\u001b[49m\n\u001b[0;32m     10\u001b[0m \u001b[38;5;28mprint\u001b[39m(\u001b[38;5;124m\"\u001b[39m\u001b[38;5;124mGridSearchCV 최적의 하이퍼 파라미터: \u001b[39m\u001b[38;5;124m\"\u001b[39m, grid_dclf\u001b[38;5;241m.\u001b[39mbest_params_)\n\u001b[0;32m     11\u001b[0m \u001b[38;5;28mprint\u001b[39m(\u001b[38;5;124m\"\u001b[39m\u001b[38;5;124mGridSearchCV 최고 정확도: \u001b[39m\u001b[38;5;132;01m{0:.4f}\u001b[39;00m\u001b[38;5;124m \u001b[39m\u001b[38;5;124m\"\u001b[39m\u001b[38;5;241m.\u001b[39mformat(grid_dclf\u001b[38;5;241m.\u001b[39mbest_score_))\n",
      "File \u001b[1;32m~\\anaconda3\\lib\\site-packages\\sklearn\\model_selection\\_search.py:891\u001b[0m, in \u001b[0;36mBaseSearchCV.fit\u001b[1;34m(self, X, y, groups, **fit_params)\u001b[0m\n\u001b[0;32m    885\u001b[0m     results \u001b[38;5;241m=\u001b[39m \u001b[38;5;28mself\u001b[39m\u001b[38;5;241m.\u001b[39m_format_results(\n\u001b[0;32m    886\u001b[0m         all_candidate_params, n_splits, all_out, all_more_results\n\u001b[0;32m    887\u001b[0m     )\n\u001b[0;32m    889\u001b[0m     \u001b[38;5;28;01mreturn\u001b[39;00m results\n\u001b[1;32m--> 891\u001b[0m \u001b[38;5;28;43mself\u001b[39;49m\u001b[38;5;241;43m.\u001b[39;49m\u001b[43m_run_search\u001b[49m\u001b[43m(\u001b[49m\u001b[43mevaluate_candidates\u001b[49m\u001b[43m)\u001b[49m\n\u001b[0;32m    893\u001b[0m \u001b[38;5;66;03m# multimetric is determined here because in the case of a callable\u001b[39;00m\n\u001b[0;32m    894\u001b[0m \u001b[38;5;66;03m# self.scoring the return type is only known after calling\u001b[39;00m\n\u001b[0;32m    895\u001b[0m first_test_score \u001b[38;5;241m=\u001b[39m all_out[\u001b[38;5;241m0\u001b[39m][\u001b[38;5;124m\"\u001b[39m\u001b[38;5;124mtest_scores\u001b[39m\u001b[38;5;124m\"\u001b[39m]\n",
      "File \u001b[1;32m~\\anaconda3\\lib\\site-packages\\sklearn\\model_selection\\_search.py:1392\u001b[0m, in \u001b[0;36mGridSearchCV._run_search\u001b[1;34m(self, evaluate_candidates)\u001b[0m\n\u001b[0;32m   1390\u001b[0m \u001b[38;5;28;01mdef\u001b[39;00m \u001b[38;5;21m_run_search\u001b[39m(\u001b[38;5;28mself\u001b[39m, evaluate_candidates):\n\u001b[0;32m   1391\u001b[0m     \u001b[38;5;124;03m\"\"\"Search all candidates in param_grid\"\"\"\u001b[39;00m\n\u001b[1;32m-> 1392\u001b[0m     \u001b[43mevaluate_candidates\u001b[49m\u001b[43m(\u001b[49m\u001b[43mParameterGrid\u001b[49m\u001b[43m(\u001b[49m\u001b[38;5;28;43mself\u001b[39;49m\u001b[38;5;241;43m.\u001b[39;49m\u001b[43mparam_grid\u001b[49m\u001b[43m)\u001b[49m\u001b[43m)\u001b[49m\n",
      "File \u001b[1;32m~\\anaconda3\\lib\\site-packages\\sklearn\\model_selection\\_search.py:838\u001b[0m, in \u001b[0;36mBaseSearchCV.fit.<locals>.evaluate_candidates\u001b[1;34m(candidate_params, cv, more_results)\u001b[0m\n\u001b[0;32m    830\u001b[0m \u001b[38;5;28;01mif\u001b[39;00m \u001b[38;5;28mself\u001b[39m\u001b[38;5;241m.\u001b[39mverbose \u001b[38;5;241m>\u001b[39m \u001b[38;5;241m0\u001b[39m:\n\u001b[0;32m    831\u001b[0m     \u001b[38;5;28mprint\u001b[39m(\n\u001b[0;32m    832\u001b[0m         \u001b[38;5;124m\"\u001b[39m\u001b[38;5;124mFitting \u001b[39m\u001b[38;5;132;01m{0}\u001b[39;00m\u001b[38;5;124m folds for each of \u001b[39m\u001b[38;5;132;01m{1}\u001b[39;00m\u001b[38;5;124m candidates,\u001b[39m\u001b[38;5;124m\"\u001b[39m\n\u001b[0;32m    833\u001b[0m         \u001b[38;5;124m\"\u001b[39m\u001b[38;5;124m totalling \u001b[39m\u001b[38;5;132;01m{2}\u001b[39;00m\u001b[38;5;124m fits\u001b[39m\u001b[38;5;124m\"\u001b[39m\u001b[38;5;241m.\u001b[39mformat(\n\u001b[0;32m    834\u001b[0m             n_splits, n_candidates, n_candidates \u001b[38;5;241m*\u001b[39m n_splits\n\u001b[0;32m    835\u001b[0m         )\n\u001b[0;32m    836\u001b[0m     )\n\u001b[1;32m--> 838\u001b[0m out \u001b[38;5;241m=\u001b[39m \u001b[43mparallel\u001b[49m\u001b[43m(\u001b[49m\n\u001b[0;32m    839\u001b[0m \u001b[43m    \u001b[49m\u001b[43mdelayed\u001b[49m\u001b[43m(\u001b[49m\u001b[43m_fit_and_score\u001b[49m\u001b[43m)\u001b[49m\u001b[43m(\u001b[49m\n\u001b[0;32m    840\u001b[0m \u001b[43m        \u001b[49m\u001b[43mclone\u001b[49m\u001b[43m(\u001b[49m\u001b[43mbase_estimator\u001b[49m\u001b[43m)\u001b[49m\u001b[43m,\u001b[49m\n\u001b[0;32m    841\u001b[0m \u001b[43m        \u001b[49m\u001b[43mX\u001b[49m\u001b[43m,\u001b[49m\n\u001b[0;32m    842\u001b[0m \u001b[43m        \u001b[49m\u001b[43my\u001b[49m\u001b[43m,\u001b[49m\n\u001b[0;32m    843\u001b[0m \u001b[43m        \u001b[49m\u001b[43mtrain\u001b[49m\u001b[38;5;241;43m=\u001b[39;49m\u001b[43mtrain\u001b[49m\u001b[43m,\u001b[49m\n\u001b[0;32m    844\u001b[0m \u001b[43m        \u001b[49m\u001b[43mtest\u001b[49m\u001b[38;5;241;43m=\u001b[39;49m\u001b[43mtest\u001b[49m\u001b[43m,\u001b[49m\n\u001b[0;32m    845\u001b[0m \u001b[43m        \u001b[49m\u001b[43mparameters\u001b[49m\u001b[38;5;241;43m=\u001b[39;49m\u001b[43mparameters\u001b[49m\u001b[43m,\u001b[49m\n\u001b[0;32m    846\u001b[0m \u001b[43m        \u001b[49m\u001b[43msplit_progress\u001b[49m\u001b[38;5;241;43m=\u001b[39;49m\u001b[43m(\u001b[49m\u001b[43msplit_idx\u001b[49m\u001b[43m,\u001b[49m\u001b[43m \u001b[49m\u001b[43mn_splits\u001b[49m\u001b[43m)\u001b[49m\u001b[43m,\u001b[49m\n\u001b[0;32m    847\u001b[0m \u001b[43m        \u001b[49m\u001b[43mcandidate_progress\u001b[49m\u001b[38;5;241;43m=\u001b[39;49m\u001b[43m(\u001b[49m\u001b[43mcand_idx\u001b[49m\u001b[43m,\u001b[49m\u001b[43m \u001b[49m\u001b[43mn_candidates\u001b[49m\u001b[43m)\u001b[49m\u001b[43m,\u001b[49m\n\u001b[0;32m    848\u001b[0m \u001b[43m        \u001b[49m\u001b[38;5;241;43m*\u001b[39;49m\u001b[38;5;241;43m*\u001b[39;49m\u001b[43mfit_and_score_kwargs\u001b[49m\u001b[43m,\u001b[49m\n\u001b[0;32m    849\u001b[0m \u001b[43m    \u001b[49m\u001b[43m)\u001b[49m\n\u001b[0;32m    850\u001b[0m \u001b[43m    \u001b[49m\u001b[38;5;28;43;01mfor\u001b[39;49;00m\u001b[43m \u001b[49m\u001b[43m(\u001b[49m\u001b[43mcand_idx\u001b[49m\u001b[43m,\u001b[49m\u001b[43m \u001b[49m\u001b[43mparameters\u001b[49m\u001b[43m)\u001b[49m\u001b[43m,\u001b[49m\u001b[43m \u001b[49m\u001b[43m(\u001b[49m\u001b[43msplit_idx\u001b[49m\u001b[43m,\u001b[49m\u001b[43m \u001b[49m\u001b[43m(\u001b[49m\u001b[43mtrain\u001b[49m\u001b[43m,\u001b[49m\u001b[43m \u001b[49m\u001b[43mtest\u001b[49m\u001b[43m)\u001b[49m\u001b[43m)\u001b[49m\u001b[43m \u001b[49m\u001b[38;5;129;43;01min\u001b[39;49;00m\u001b[43m \u001b[49m\u001b[43mproduct\u001b[49m\u001b[43m(\u001b[49m\n\u001b[0;32m    851\u001b[0m \u001b[43m        \u001b[49m\u001b[38;5;28;43menumerate\u001b[39;49m\u001b[43m(\u001b[49m\u001b[43mcandidate_params\u001b[49m\u001b[43m)\u001b[49m\u001b[43m,\u001b[49m\u001b[43m \u001b[49m\u001b[38;5;28;43menumerate\u001b[39;49m\u001b[43m(\u001b[49m\u001b[43mcv\u001b[49m\u001b[38;5;241;43m.\u001b[39;49m\u001b[43msplit\u001b[49m\u001b[43m(\u001b[49m\u001b[43mX\u001b[49m\u001b[43m,\u001b[49m\u001b[43m \u001b[49m\u001b[43my\u001b[49m\u001b[43m,\u001b[49m\u001b[43m \u001b[49m\u001b[43mgroups\u001b[49m\u001b[43m)\u001b[49m\u001b[43m)\u001b[49m\n\u001b[0;32m    852\u001b[0m \u001b[43m    \u001b[49m\u001b[43m)\u001b[49m\n\u001b[0;32m    853\u001b[0m \u001b[43m\u001b[49m\u001b[43m)\u001b[49m\n\u001b[0;32m    855\u001b[0m \u001b[38;5;28;01mif\u001b[39;00m \u001b[38;5;28mlen\u001b[39m(out) \u001b[38;5;241m<\u001b[39m \u001b[38;5;241m1\u001b[39m:\n\u001b[0;32m    856\u001b[0m     \u001b[38;5;28;01mraise\u001b[39;00m \u001b[38;5;167;01mValueError\u001b[39;00m(\n\u001b[0;32m    857\u001b[0m         \u001b[38;5;124m\"\u001b[39m\u001b[38;5;124mNo fits were performed. \u001b[39m\u001b[38;5;124m\"\u001b[39m\n\u001b[0;32m    858\u001b[0m         \u001b[38;5;124m\"\u001b[39m\u001b[38;5;124mWas the CV iterator empty? \u001b[39m\u001b[38;5;124m\"\u001b[39m\n\u001b[0;32m    859\u001b[0m         \u001b[38;5;124m\"\u001b[39m\u001b[38;5;124mWere there no candidates?\u001b[39m\u001b[38;5;124m\"\u001b[39m\n\u001b[0;32m    860\u001b[0m     )\n",
      "File \u001b[1;32m~\\anaconda3\\lib\\site-packages\\joblib\\parallel.py:1056\u001b[0m, in \u001b[0;36mParallel.__call__\u001b[1;34m(self, iterable)\u001b[0m\n\u001b[0;32m   1053\u001b[0m     \u001b[38;5;28mself\u001b[39m\u001b[38;5;241m.\u001b[39m_iterating \u001b[38;5;241m=\u001b[39m \u001b[38;5;28;01mFalse\u001b[39;00m\n\u001b[0;32m   1055\u001b[0m \u001b[38;5;28;01mwith\u001b[39;00m \u001b[38;5;28mself\u001b[39m\u001b[38;5;241m.\u001b[39m_backend\u001b[38;5;241m.\u001b[39mretrieval_context():\n\u001b[1;32m-> 1056\u001b[0m     \u001b[38;5;28;43mself\u001b[39;49m\u001b[38;5;241;43m.\u001b[39;49m\u001b[43mretrieve\u001b[49m\u001b[43m(\u001b[49m\u001b[43m)\u001b[49m\n\u001b[0;32m   1057\u001b[0m \u001b[38;5;66;03m# Make sure that we get a last message telling us we are done\u001b[39;00m\n\u001b[0;32m   1058\u001b[0m elapsed_time \u001b[38;5;241m=\u001b[39m time\u001b[38;5;241m.\u001b[39mtime() \u001b[38;5;241m-\u001b[39m \u001b[38;5;28mself\u001b[39m\u001b[38;5;241m.\u001b[39m_start_time\n",
      "File \u001b[1;32m~\\anaconda3\\lib\\site-packages\\joblib\\parallel.py:935\u001b[0m, in \u001b[0;36mParallel.retrieve\u001b[1;34m(self)\u001b[0m\n\u001b[0;32m    933\u001b[0m \u001b[38;5;28;01mtry\u001b[39;00m:\n\u001b[0;32m    934\u001b[0m     \u001b[38;5;28;01mif\u001b[39;00m \u001b[38;5;28mgetattr\u001b[39m(\u001b[38;5;28mself\u001b[39m\u001b[38;5;241m.\u001b[39m_backend, \u001b[38;5;124m'\u001b[39m\u001b[38;5;124msupports_timeout\u001b[39m\u001b[38;5;124m'\u001b[39m, \u001b[38;5;28;01mFalse\u001b[39;00m):\n\u001b[1;32m--> 935\u001b[0m         \u001b[38;5;28mself\u001b[39m\u001b[38;5;241m.\u001b[39m_output\u001b[38;5;241m.\u001b[39mextend(\u001b[43mjob\u001b[49m\u001b[38;5;241;43m.\u001b[39;49m\u001b[43mget\u001b[49m\u001b[43m(\u001b[49m\u001b[43mtimeout\u001b[49m\u001b[38;5;241;43m=\u001b[39;49m\u001b[38;5;28;43mself\u001b[39;49m\u001b[38;5;241;43m.\u001b[39;49m\u001b[43mtimeout\u001b[49m\u001b[43m)\u001b[49m)\n\u001b[0;32m    936\u001b[0m     \u001b[38;5;28;01melse\u001b[39;00m:\n\u001b[0;32m    937\u001b[0m         \u001b[38;5;28mself\u001b[39m\u001b[38;5;241m.\u001b[39m_output\u001b[38;5;241m.\u001b[39mextend(job\u001b[38;5;241m.\u001b[39mget())\n",
      "File \u001b[1;32m~\\anaconda3\\lib\\site-packages\\joblib\\_parallel_backends.py:542\u001b[0m, in \u001b[0;36mLokyBackend.wrap_future_result\u001b[1;34m(future, timeout)\u001b[0m\n\u001b[0;32m    539\u001b[0m \u001b[38;5;124;03m\"\"\"Wrapper for Future.result to implement the same behaviour as\u001b[39;00m\n\u001b[0;32m    540\u001b[0m \u001b[38;5;124;03mAsyncResults.get from multiprocessing.\"\"\"\u001b[39;00m\n\u001b[0;32m    541\u001b[0m \u001b[38;5;28;01mtry\u001b[39;00m:\n\u001b[1;32m--> 542\u001b[0m     \u001b[38;5;28;01mreturn\u001b[39;00m \u001b[43mfuture\u001b[49m\u001b[38;5;241;43m.\u001b[39;49m\u001b[43mresult\u001b[49m\u001b[43m(\u001b[49m\u001b[43mtimeout\u001b[49m\u001b[38;5;241;43m=\u001b[39;49m\u001b[43mtimeout\u001b[49m\u001b[43m)\u001b[49m\n\u001b[0;32m    543\u001b[0m \u001b[38;5;28;01mexcept\u001b[39;00m CfTimeoutError \u001b[38;5;28;01mas\u001b[39;00m e:\n\u001b[0;32m    544\u001b[0m     \u001b[38;5;28;01mraise\u001b[39;00m \u001b[38;5;167;01mTimeoutError\u001b[39;00m \u001b[38;5;28;01mfrom\u001b[39;00m \u001b[38;5;21;01me\u001b[39;00m\n",
      "File \u001b[1;32m~\\anaconda3\\lib\\concurrent\\futures\\_base.py:441\u001b[0m, in \u001b[0;36mFuture.result\u001b[1;34m(self, timeout)\u001b[0m\n\u001b[0;32m    438\u001b[0m \u001b[38;5;28;01melif\u001b[39;00m \u001b[38;5;28mself\u001b[39m\u001b[38;5;241m.\u001b[39m_state \u001b[38;5;241m==\u001b[39m FINISHED:\n\u001b[0;32m    439\u001b[0m     \u001b[38;5;28;01mreturn\u001b[39;00m \u001b[38;5;28mself\u001b[39m\u001b[38;5;241m.\u001b[39m__get_result()\n\u001b[1;32m--> 441\u001b[0m \u001b[38;5;28;43mself\u001b[39;49m\u001b[38;5;241;43m.\u001b[39;49m\u001b[43m_condition\u001b[49m\u001b[38;5;241;43m.\u001b[39;49m\u001b[43mwait\u001b[49m\u001b[43m(\u001b[49m\u001b[43mtimeout\u001b[49m\u001b[43m)\u001b[49m\n\u001b[0;32m    443\u001b[0m \u001b[38;5;28;01mif\u001b[39;00m \u001b[38;5;28mself\u001b[39m\u001b[38;5;241m.\u001b[39m_state \u001b[38;5;129;01min\u001b[39;00m [CANCELLED, CANCELLED_AND_NOTIFIED]:\n\u001b[0;32m    444\u001b[0m     \u001b[38;5;28;01mraise\u001b[39;00m CancelledError()\n",
      "File \u001b[1;32m~\\anaconda3\\lib\\threading.py:312\u001b[0m, in \u001b[0;36mCondition.wait\u001b[1;34m(self, timeout)\u001b[0m\n\u001b[0;32m    310\u001b[0m \u001b[38;5;28;01mtry\u001b[39;00m:    \u001b[38;5;66;03m# restore state no matter what (e.g., KeyboardInterrupt)\u001b[39;00m\n\u001b[0;32m    311\u001b[0m     \u001b[38;5;28;01mif\u001b[39;00m timeout \u001b[38;5;129;01mis\u001b[39;00m \u001b[38;5;28;01mNone\u001b[39;00m:\n\u001b[1;32m--> 312\u001b[0m         \u001b[43mwaiter\u001b[49m\u001b[38;5;241;43m.\u001b[39;49m\u001b[43macquire\u001b[49m\u001b[43m(\u001b[49m\u001b[43m)\u001b[49m\n\u001b[0;32m    313\u001b[0m         gotit \u001b[38;5;241m=\u001b[39m \u001b[38;5;28;01mTrue\u001b[39;00m\n\u001b[0;32m    314\u001b[0m     \u001b[38;5;28;01melse\u001b[39;00m:\n",
      "\u001b[1;31mKeyboardInterrupt\u001b[0m: "
     ]
    }
   ],
   "source": [
    "from sklearn.model_selection import GridSearchCV\n",
    "parameters = {'max_depth': range(6,10),\n",
    "              'min_samples_split' : range(1,20), 'min_samples_leaf': range(1,11), \n",
    "              'n_estimators' : range(100,125)}\n",
    "rf_clf = RandomForestClassifier()\n",
    "\n",
    "grid_dclf = GridSearchCV(rf_clf, param_grid=parameters, scoring='accuracy', cv=5, n_jobs=-1)\n",
    "grid_dclf.fit(X_train, Y_train)\n",
    "\n",
    "print(\"GridSearchCV 최적의 하이퍼 파라미터: \", grid_dclf.best_params_)\n",
    "print(\"GridSearchCV 최고 정확도: {0:.4f} \".format(grid_dclf.best_score_))\n",
    "best_dclf = grid_dclf.best_estimator_\n",
    "\n",
    "\n"
   ]
  },
  {
   "cell_type": "code",
   "execution_count": 950,
   "id": "74ccdd10",
   "metadata": {},
   "outputs": [],
   "source": [
    "from sklearn.linear_model import LogisticRegression"
   ]
  },
  {
   "cell_type": "code",
   "execution_count": 952,
   "id": "29c6b7c5",
   "metadata": {},
   "outputs": [],
   "source": [
    "lg_clf = LogisticRegression(solver=solver, max_iter=1000)"
   ]
  },
  {
   "cell_type": "code",
   "execution_count": 951,
   "id": "25748070",
   "metadata": {},
   "outputs": [],
   "source": [
    "solvers= ['lbfgs', 'liblinear', 'newton-cg', \"sag\", 'saga']"
   ]
  },
  {
   "cell_type": "code",
   "execution_count": 953,
   "id": "ad33da9f",
   "metadata": {
    "scrolled": true
   },
   "outputs": [
    {
     "name": "stdout",
     "output_type": "stream",
     "text": [
      "lbfgs 0.6489513938527519\n",
      "liblinear 0.6489513938527519\n",
      "newton-cg 0.6489513938527519\n",
      "sag 0.6489513938527519\n",
      "saga 0.6489513938527519\n"
     ]
    }
   ],
   "source": [
    "for solver in solvers:\n",
    "    lg_clf = LogisticRegression()\n",
    "    lg_clf.fit(transform_X_train, Y_train)\n",
    "    lg_preds = lg_clf.predict(transform_X_test)\n",
    "    result = cross_val_score( lg_clf, transform_X_train,\n",
    "                            Y_train, cv=5)\n",
    "    print(solver, result.mean())"
   ]
  },
  {
   "cell_type": "code",
   "execution_count": 955,
   "id": "701fb612",
   "metadata": {
    "scrolled": true
   },
   "outputs": [
    {
     "data": {
      "text/plain": [
       "0.6623803400485784"
      ]
     },
     "execution_count": 955,
     "metadata": {},
     "output_type": "execute_result"
    }
   ],
   "source": [
    "lg_clf.score(X_train, Y_train)"
   ]
  },
  {
   "cell_type": "code",
   "execution_count": 1085,
   "id": "adeebf83",
   "metadata": {},
   "outputs": [
    {
     "data": {
      "text/plain": [
       "0.6182142857142857"
      ]
     },
     "execution_count": 1085,
     "metadata": {},
     "output_type": "execute_result"
    }
   ],
   "source": [
    "lg_clf.score(X_test1, Y_test1)"
   ]
  },
  {
   "cell_type": "markdown",
   "id": "92255bf4",
   "metadata": {},
   "source": [
    "## 에이다 부스트 "
   ]
  },
  {
   "cell_type": "code",
   "execution_count": null,
   "id": "9cff38db",
   "metadata": {},
   "outputs": [],
   "source": [
    "def gridsearch(model , param):\n",
    "    gscv = GridSearchCV(estimator = model, \n",
    "                         param_grid = param, \n",
    "                         scoring='accuracy',\n",
    "                         cv = 4,\n",
    "                         n_jobs = -1)\n",
    "    gscv.fit(X_train_x , Y_train)\n",
    "    result = gscv.best_params_\n",
    "    return result"
   ]
  },
  {
   "cell_type": "code",
   "execution_count": 1087,
   "id": "f5cb83f8",
   "metadata": {},
   "outputs": [],
   "source": [
    "# 모델 import \n",
    "from sklearn.ensemble import AdaBoostClassifier"
   ]
  },
  {
   "cell_type": "code",
   "execution_count": 1088,
   "id": "47d26b65",
   "metadata": {},
   "outputs": [
    {
     "name": "stdout",
     "output_type": "stream",
     "text": [
      "Best parameters for AdaBoost:  {'learning_rate': 0.01, 'n_estimators': 1000}\n"
     ]
    }
   ],
   "source": [
    "gs_adb = AdaBoostClassifier(random_state = 0)\n",
    "adb_params ={\n",
    "    'n_estimators':[10, 50, 100, 250, 500, 1000],\n",
    "    'learning_rate':[0.001, 0.01, 0.1, 1]}\n",
    "print(f'Best parameters for AdaBoost: ', gridsearch(gs_adb , adb_params))"
   ]
  },
  {
   "cell_type": "code",
   "execution_count": 1089,
   "id": "c6cc5833",
   "metadata": {},
   "outputs": [
    {
     "data": {
      "text/plain": [
       "0.6450936383130809"
      ]
     },
     "execution_count": 1089,
     "metadata": {},
     "output_type": "execute_result"
    }
   ],
   "source": [
    "rs= cross_val_score(gs_adb, X_train_x, Y_train, cv=5)\n",
    "rs.mean()"
   ]
  },
  {
   "cell_type": "code",
   "execution_count": 1090,
   "id": "386fb59a",
   "metadata": {},
   "outputs": [
    {
     "data": {
      "text/plain": [
       "array([0.64785714, 0.63857143, 0.63285714, 0.65071429, 0.65546819])"
      ]
     },
     "execution_count": 1090,
     "metadata": {},
     "output_type": "execute_result"
    }
   ],
   "source": [
    "rs"
   ]
  },
  {
   "cell_type": "code",
   "execution_count": null,
   "id": "25866655",
   "metadata": {},
   "outputs": [],
   "source": [
    "ada_model.fit(X_train, Y_train)"
   ]
  },
  {
   "cell_type": "markdown",
   "id": "0b375afc",
   "metadata": {},
   "source": [
    "### lgb 모델 "
   ]
  },
  {
   "cell_type": "code",
   "execution_count": 66,
   "id": "72ca5090",
   "metadata": {},
   "outputs": [],
   "source": [
    "from lightgbm import LGBMClassifier"
   ]
  },
  {
   "cell_type": "code",
   "execution_count": 113,
   "id": "610283fc",
   "metadata": {},
   "outputs": [],
   "source": [
    "lgb_model = LGBMClassifier(learning_rate= 0.18, max_depth= 3, n_estimators=50, random_state= 1)"
   ]
  },
  {
   "cell_type": "code",
   "execution_count": 114,
   "id": "ea8cfae0",
   "metadata": {
    "scrolled": true
   },
   "outputs": [
    {
     "data": {
      "text/plain": [
       "LGBMClassifier(learning_rate=0.18, max_depth=3, n_estimators=50, random_state=1)"
      ]
     },
     "execution_count": 114,
     "metadata": {},
     "output_type": "execute_result"
    }
   ],
   "source": [
    "lgb_model.fit(X_train, Y_train)"
   ]
  },
  {
   "cell_type": "code",
   "execution_count": 115,
   "id": "2b246853",
   "metadata": {},
   "outputs": [],
   "source": [
    "result = cross_val_score(lgb_model, X_train,\n",
    "                            Y_train, cv=5)"
   ]
  },
  {
   "cell_type": "code",
   "execution_count": 119,
   "id": "60661984",
   "metadata": {},
   "outputs": [
    {
     "data": {
      "text/plain": [
       "array([1, 1, 0, ..., 0, 0, 0], dtype=int64)"
      ]
     },
     "execution_count": 119,
     "metadata": {},
     "output_type": "execute_result"
    }
   ],
   "source": [
    "pre_ran = lgb_model.predict(X_test)\n",
    "pre_ran"
   ]
  },
  {
   "cell_type": "code",
   "execution_count": 120,
   "id": "33e6621d",
   "metadata": {},
   "outputs": [],
   "source": [
    "submit[\"Reached.on.Time_Y.N\"]=pre_ran"
   ]
  },
  {
   "cell_type": "code",
   "execution_count": 121,
   "id": "4d6552c8",
   "metadata": {},
   "outputs": [],
   "source": [
    "submit.to_csv(\"1111_final.csv\", index=False)"
   ]
  },
  {
   "cell_type": "code",
   "execution_count": 5472,
   "id": "c8d12c91",
   "metadata": {},
   "outputs": [],
   "source": [
    "submit.to_csv(\"submit1109_9.csv\", index=False)"
   ]
  },
  {
   "cell_type": "code",
   "execution_count": 1133,
   "id": "888c0cfd",
   "metadata": {
    "scrolled": false
   },
   "outputs": [
    {
     "data": {
      "text/plain": [
       "GridSearchCV(cv=5, estimator=LGBMClassifier(),\n",
       "             param_grid={'colsample_bytree': [0.7, 0.8, 0.9, 1],\n",
       "                         'learning_rate': [0.01, 0.02, 0.05, 0.03, 0.1, 0.2],\n",
       "                         'max_depth': [2], 'n_estimators': range(50, 1000, 50),\n",
       "                         'n_jobs': [-1]},\n",
       "             scoring='accuracy')"
      ]
     },
     "execution_count": 1133,
     "metadata": {},
     "output_type": "execute_result"
    }
   ],
   "source": [
    "from sklearn.model_selection import GridSearchCV\n",
    "\n",
    "#튜닝할 매개변수 결정,\n",
    "lgb_model = LGBMClassifier()\n",
    "params = {'n_estimators': range(50, 1000, 50),\n",
    "          \"max_depth\" : [2],\n",
    "          \"learning_rate\" : [ 0.01, 0.02, 0.05, 0.03, 0.1, 0.2 ],\n",
    "          'colsample_bytree': [0.7, 0.8, 0.9, 1],\n",
    "          'n_jobs' : [-1], \n",
    "          }\n",
    "#모델 생성\n",
    "# 위에서 만든 lgb_model 사용 \n",
    "#gridSearchCV 객체를 생성 \n",
    "grid = GridSearchCV(lgb_model, \n",
    "             params, \n",
    "             cv=5,\n",
    "             scoring = \"accuracy\")\n",
    "# GridSearchCV 모델 훈련 / 학습 시간이 오래걸릴 수 있다. \n",
    "grid.fit(X_train_x, Y_train)"
   ]
  },
  {
   "cell_type": "code",
   "execution_count": 1134,
   "id": "6f477379",
   "metadata": {
    "scrolled": true
   },
   "outputs": [
    {
     "name": "stdout",
     "output_type": "stream",
     "text": [
      "0.6678117022362913\n",
      "{'colsample_bytree': 0.8, 'learning_rate': 0.1, 'max_depth': 2, 'n_estimators': 300, 'n_jobs': -1}\n"
     ]
    }
   ],
   "source": [
    "print(grid.best_score_)  \n",
    "print(grid.best_params_)"
   ]
  },
  {
   "cell_type": "code",
   "execution_count": 1399,
   "id": "25ce0e4b",
   "metadata": {
    "scrolled": false
   },
   "outputs": [
    {
     "name": "stdout",
     "output_type": "stream",
     "text": [
      "features \n",
      " [24 31 45  8  3  0 17 25 25 20 11  9  2 30  0]\n",
      "\n",
      "\n",
      "df1                         importances\n",
      "Customer_care_calls              24\n",
      "Customer_rating                  31\n",
      "Prior_purchases                  45\n",
      "Product_importance                8\n",
      "Discount_label_10미만               3\n",
      "Discount_label_10                 0\n",
      "Discount_label_10초과              17\n",
      "WD_label_60000이하                 25\n",
      "Weight_label_1001~2000           25\n",
      "Weight_label_2001~4000           20\n",
      "Weight_label_4001~               11\n",
      "Cost_label_0                      9\n",
      "Cost_label_1                      2\n",
      "Cost_label_2                     30\n",
      "Cost_label_3                      0\n",
      "\n",
      "\n",
      "df2                         importances\n",
      "Prior_purchases                  45\n",
      "Customer_rating                  31\n",
      "Cost_label_2                     30\n",
      "WD_label_60000이하                 25\n",
      "Weight_label_1001~2000           25\n",
      "Customer_care_calls              24\n",
      "Weight_label_2001~4000           20\n",
      "Discount_label_10초과              17\n",
      "Weight_label_4001~               11\n",
      "Cost_label_0                      9\n",
      "Product_importance                8\n",
      "Discount_label_10미만               3\n",
      "Cost_label_1                      2\n",
      "Discount_label_10                 0\n",
      "Cost_label_3                      0\n",
      "\n",
      "\n",
      "df3                         importances\n",
      "Prior_purchases                  45\n",
      "Customer_rating                  31\n",
      "Cost_label_2                     30\n",
      "WD_label_60000이하                 25\n",
      "Weight_label_1001~2000           25\n",
      "Customer_care_calls              24\n",
      "Weight_label_2001~4000           20\n",
      "Discount_label_10초과              17\n",
      "Weight_label_4001~               11\n",
      "Cost_label_0                      9\n",
      "Product_importance                8\n",
      "Discount_label_10미만               3\n",
      "Cost_label_1                      2\n",
      "Discount_label_10                 0\n",
      "Cost_label_3                      0\n"
     ]
    },
    {
     "data": {
      "text/plain": [
       "<AxesSubplot:>"
      ]
     },
     "execution_count": 1399,
     "metadata": {},
     "output_type": "execute_result"
    },
    {
     "data": {
      "image/png": "[encoded data removed]",
      "text/plain": [
       "<Figure size 432x288 with 1 Axes>"
      ]
     },
     "metadata": {
      "needs_background": "light"
     },
     "output_type": "display_data"
    }
   ],
   "source": [
    "\n",
    "import pandas as pd\n",
    "import numpy as np\n",
    "from matplotlib import pyplot as plt \n",
    "\n",
    "# Gbm 완성하기 \n",
    "model_best = LGBMClassifier(learning_rate= 0.2, max_depth= 3, n_estimators= 38)\n",
    "# model 훈련하기 \n",
    "model_best.fit(X_train, Y_train)\n",
    "\n",
    "# feature_importance_를 이용해서 영향력이 높은 특성을 알아보기 \n",
    "feature = model_best.feature_\n",
    "print(\"features \\n\", feature)\n",
    "print(\"\\n\")\n",
    "# 영향력이 높은 모델의 특성을 데이터 프레임화 시키기 \n",
    "df1 =pd.DataFrame(feature, index= X_train.columns, columns=[\"importances\"])\n",
    "print(\"df1\", df1.head(20))\n",
    "print(\"\\n\")\n",
    "\n",
    "#위의 데이터 프레임을 내림차순으로 정렬하기 \n",
    "# by = importances ascending = False \n",
    "df2 = df1.sort_values(by=\"importances\", ascending=False)\n",
    "print(\"df2\", df2.head(15))\n",
    "print(\"\\n\")\n",
    "df3= df2.head(15)\n",
    "print(\"df3\", df2.head(27))\n",
    "df3.plot.barh()"
   ]
  },
  {
   "cell_type": "code",
   "execution_count": 1196,
   "id": "248d36ee",
   "metadata": {},
   "outputs": [
    {
     "name": "stdout",
     "output_type": "stream",
     "text": [
      "<class 'pandas.core.frame.DataFrame'>\n",
      "RangeIndex: 6999 entries, 0 to 6998\n",
      "Data columns (total 15 columns):\n",
      " #   Column                  Non-Null Count  Dtype  \n",
      "---  ------                  --------------  -----  \n",
      " 0   Customer_care_calls     6999 non-null   float64\n",
      " 1   Customer_rating         6999 non-null   int64  \n",
      " 2   Prior_purchases         6999 non-null   float64\n",
      " 3   Product_importance      6999 non-null   float64\n",
      " 4   Discount_label_10미만     6999 non-null   uint8  \n",
      " 5   Discount_label_10       6999 non-null   uint8  \n",
      " 6   Discount_label_10초과     6999 non-null   uint8  \n",
      " 7   WD_label_60000이하        6999 non-null   uint8  \n",
      " 8   Weight_label_1001~2000  6999 non-null   uint8  \n",
      " 9   Weight_label_2001~4000  6999 non-null   uint8  \n",
      " 10  Weight_label_4001~      6999 non-null   uint8  \n",
      " 11  Cost_label_0            6999 non-null   uint8  \n",
      " 12  Cost_label_1            6999 non-null   uint8  \n",
      " 13  Cost_label_2            6999 non-null   uint8  \n",
      " 14  Cost_label_3            6999 non-null   uint8  \n",
      "dtypes: float64(3), int64(1), uint8(11)\n",
      "memory usage: 294.0 KB\n"
     ]
    }
   ],
   "source": [
    "X_train.info()"
   ]
  },
  {
   "cell_type": "code",
   "execution_count": 1415,
   "id": "e2513946",
   "metadata": {},
   "outputs": [
    {
     "name": "stderr",
     "output_type": "stream",
     "text": [
      "100%|████████████████████████████████████████████████████████████████████████████████| 500/500 [18:29<00:00,  2.22s/it]\n"
     ]
    }
   ],
   "source": [
    "\n",
    "train_list =[]\n",
    "neighbors_settings = tqdm(range(300,800))\n",
    "# 1~50까지 값을 neighbors_setting변수 저장 \n",
    "\n",
    "\n",
    "for k in neighbors_settings :\n",
    "    # 모델 생성 \n",
    "    knn_clf = KNeighborsClassifier(n_neighbors=k)\n",
    "    # 모델 학습 \n",
    "    knn_clf.fit(transform_X_train, Y_train)\n",
    "    #테스트 데이터를 이용한 예측 \n",
    "    test_pre = knn_clf.predict(transform_X_test)\n",
    "    test_score =  cross_val_score(knn_clf, transform_X_train,\n",
    "                            Y_train, cv=5)\n",
    "    train_list.append(test_score.mean())"
   ]
  },
  {
   "cell_type": "code",
   "execution_count": 1423,
   "id": "85439d74",
   "metadata": {},
   "outputs": [],
   "source": [
    "def gridsearch(model , param):\n",
    "    gscv = GridSearchCV(estimator = model, \n",
    "                         param_grid = param, \n",
    "                         scoring='accuracy',\n",
    "                         cv = 4,\n",
    "                         n_jobs = -1)\n",
    "    gscv.fit(X_train , Y_train)\n",
    "    result = gscv.best_params_\n",
    "    return result"
   ]
  },
  {
   "cell_type": "code",
   "execution_count": 1441,
   "id": "15c47af0",
   "metadata": {},
   "outputs": [
    {
     "name": "stdout",
     "output_type": "stream",
     "text": [
      "Best parameters for XGBoost:  {'learning_rate': 0.05, 'n_estimators': 50}\n"
     ]
    }
   ],
   "source": [
    "xgb_gs =  XGBClassifier(random_state = 0, verbosity = 0)\n",
    "xgb_params =  {'n_estimators':[100,300, 50],\n",
    "              'learning_rate':[0.1,0.2, 0.05]} \n",
    "print(f'Best parameters for XGBoost: ', gridsearch(xgb_gs , xgb_params))"
   ]
  },
  {
   "cell_type": "code",
   "execution_count": 75,
   "id": "24d3c4b4",
   "metadata": {},
   "outputs": [],
   "source": [
    "from xgboost import XGBClassifier"
   ]
  },
  {
   "cell_type": "code",
   "execution_count": 85,
   "id": "97d608db",
   "metadata": {},
   "outputs": [],
   "source": [
    "xgb_model = XGBClassifier(learning_rate= 0.2, max_depth= 3, n_estimators=38 ).fit(X_train, Y_train)"
   ]
  },
  {
   "cell_type": "code",
   "execution_count": 81,
   "id": "69956f58",
   "metadata": {},
   "outputs": [],
   "source": [
    "result= cross_val_score(xgb_model, X_train, Y_train, cv=5)"
   ]
  },
  {
   "cell_type": "code",
   "execution_count": 1411,
   "id": "3b66ebe5",
   "metadata": {},
   "outputs": [],
   "source": [
    "xgb_model = XGBClassifier(n_estimators=38, learning_rate=0.2)"
   ]
  },
  {
   "cell_type": "code",
   "execution_count": null,
   "id": "f69fb975",
   "metadata": {},
   "outputs": [],
   "source": [
    "from sklearn.model_selection import GridSearchCV\n",
    "\n",
    "#튜닝할 매개변수 결정\n",
    "params = {'n_estimators': range(1, 101, 1),\n",
    "          \"max_depth\" : [3,4,5,2],\n",
    "          \"learning_rate\" : [0.1,0.2,0.01,0.05, 0.1],\n",
    "          'colsample_bytree': [ 1]\n",
    "          }\n",
    "#모델 생성\n",
    "# 위에서 만든 lgb_model 사용 \n",
    "\n",
    "#gridSearchCV 객체를 생성 \n",
    "grid = GridSearchCV(xgb_model, \n",
    "             params, \n",
    "             cv=5,\n",
    "             scoring = \"accuracy\")\n",
    "# GridSearchCV 모델 훈련 / 학습 시간이 오래걸릴 수 있다. \n",
    "grid.fit(X_train, Y_train)"
   ]
  },
  {
   "cell_type": "code",
   "execution_count": null,
   "id": "9d8434f8",
   "metadata": {},
   "outputs": [],
   "source": [
    "\n",
    "\n",
    "# 미리 사용할 알고리즘을 fit 해야한다\n",
    "xgb_model = XGBClassifier(learning_rate= 0.2, max_depth= 3, n_estimators=38 ).fit(X_train, Y_train)\n",
    "\n",
    "perm = PermutationImportance(lgb_model, scoring = \"accuracy\", random_state = 97).fit(X_train, Y_train) \n",
    "eli5.show_weights(perm, top = 25, feature_names = X_train.columns.tolist())"
   ]
  },
  {
   "cell_type": "code",
   "execution_count": 1412,
   "id": "2178b8cd",
   "metadata": {},
   "outputs": [],
   "source": [
    "result = cross_val_score(xgb_model, X_train,\n",
    "                            Y_train, cv=5)"
   ]
  },
  {
   "cell_type": "code",
   "execution_count": 6859,
   "id": "58917922",
   "metadata": {},
   "outputs": [
    {
     "data": {
      "text/plain": [
       "array([0, 1, 0, ..., 0, 1, 0])"
      ]
     },
     "execution_count": 6859,
     "metadata": {},
     "output_type": "execute_result"
    }
   ],
   "source": [
    "pre_xgb = xgb_model.predict(X_test)\n",
    "pre_xgb"
   ]
  },
  {
   "cell_type": "code",
   "execution_count": 6860,
   "id": "f6951ffe",
   "metadata": {},
   "outputs": [],
   "source": [
    "submit[\"Reached.on.Time_Y.N\"]=pre_xgb"
   ]
  },
  {
   "cell_type": "code",
   "execution_count": 6862,
   "id": "ed72c1ad",
   "metadata": {},
   "outputs": [],
   "source": [
    "submit.to_csv(\"submit1107_5.csv\", index=False)"
   ]
  },
  {
   "cell_type": "code",
   "execution_count": 6692,
   "id": "16a43f17",
   "metadata": {},
   "outputs": [],
   "source": [
    "result = cross_val_score(final, X_train,\n",
    "                            Y_train, cv=10)"
   ]
  },
  {
   "cell_type": "code",
   "execution_count": 90,
   "id": "47480cc1",
   "metadata": {},
   "outputs": [],
   "source": [
    "from sklearn.ensemble  import VotingClassifier "
   ]
  },
  {
   "cell_type": "code",
   "execution_count": 91,
   "id": "07f29311",
   "metadata": {},
   "outputs": [],
   "source": [
    "# Voting 모델 생성하기 \n",
    "voting_hard = VotingClassifier(estimators=estimators, voting ='hard') "
   ]
  },
  {
   "cell_type": "code",
   "execution_count": 92,
   "id": "650f32b0",
   "metadata": {},
   "outputs": [
    {
     "data": {
      "text/plain": [
       "array([0.66      , 0.66285714, 0.65285714, 0.66571429, 0.67405289])"
      ]
     },
     "execution_count": 92,
     "metadata": {},
     "output_type": "execute_result"
    }
   ],
   "source": [
    "result= cross_val_score(voting_hard, X_train, Y_train, cv=5)\n",
    "result"
   ]
  },
  {
   "cell_type": "code",
   "execution_count": 97,
   "id": "ee7748d1",
   "metadata": {},
   "outputs": [
    {
     "data": {
      "text/plain": [
       "VotingClassifier(estimators=[('lgb',\n",
       "                              LGBMClassifier(learning_rate=0.2, max_depth=3,\n",
       "                                             n_estimators=38, random_state=1)),\n",
       "                             ('xgb',\n",
       "                              XGBClassifier(base_score=0.5, booster='gbtree',\n",
       "                                            callbacks=None, colsample_bylevel=1,\n",
       "                                            colsample_bynode=1,\n",
       "                                            colsample_bytree=1,\n",
       "                                            early_stopping_rounds=None,\n",
       "                                            enable_categorical=False,\n",
       "                                            eval_metric=None,\n",
       "                                            feature_types=None, gamma=0,\n",
       "                                            gpu_id=-1, grow...\n",
       "                                            feature_types=None, gamma=0,\n",
       "                                            gpu_id=-1, grow_policy='depthwise',\n",
       "                                            importance_type=None,\n",
       "                                            interaction_constraints='',\n",
       "                                            learning_rate=0.2, max_bin=256,\n",
       "                                            max_cat_threshold=64,\n",
       "                                            max_cat_to_onehot=4,\n",
       "                                            max_delta_step=0, max_depth=3,\n",
       "                                            max_leaves=0, min_child_weight=1,\n",
       "                                            missing=nan,\n",
       "                                            monotone_constraints='()',\n",
       "                                            n_estimators=38, n_jobs=0,\n",
       "                                            num_parallel_tree=1,\n",
       "                                            predictor='auto', random_state=0, ...))])"
      ]
     },
     "execution_count": 97,
     "metadata": {},
     "output_type": "execute_result"
    }
   ],
   "source": [
    "voting_hard.fit(X_train, Y_train)"
   ]
  },
  {
   "cell_type": "code",
   "execution_count": 98,
   "id": "f6af990c",
   "metadata": {},
   "outputs": [
    {
     "data": {
      "text/plain": [
       "array([0, 1, 0, ..., 0, 0, 0], dtype=int64)"
      ]
     },
     "execution_count": 98,
     "metadata": {},
     "output_type": "execute_result"
    }
   ],
   "source": [
    "pre_final =voting_hard.predict(X_test)\n",
    "pre_final"
   ]
  },
  {
   "cell_type": "code",
   "execution_count": null,
   "id": "d21a1f99",
   "metadata": {},
   "outputs": [],
   "source": [
    "submit[\"Reached.on.Time_Y.N\"]=pre_final"
   ]
  },
  {
   "cell_type": "code",
   "execution_count": 99,
   "id": "e692d04c",
   "metadata": {},
   "outputs": [],
   "source": [
    "submit.to_csv(\"submit1111_final.csv\", index=False)"
   ]
  },
  {
   "cell_type": "code",
   "execution_count": 102,
   "id": "03a99cf5",
   "metadata": {},
   "outputs": [
    {
     "data": {
      "text/plain": [
       "array([0, 1, 0, ..., 0, 0, 0], dtype=int64)"
      ]
     },
     "execution_count": 102,
     "metadata": {},
     "output_type": "execute_result"
    }
   ],
   "source": [
    "pre_final"
   ]
  },
  {
   "cell_type": "code",
   "execution_count": null,
   "id": "862efd51",
   "metadata": {},
   "outputs": [],
   "source": [
    "from sklearn.model_selection import GridSearchCV\n",
    "\n",
    "#튜닝할 매개변수 결정\n",
    "params = {'n_estimators': [1000, 500, 1500, 2000],\n",
    "          \"max_depth\" : [1,2,3,4,5],\n",
    "          \"learning_rate\" : [0.1, 0.2, 0.3, 0.4, 0.5, 0.7],\n",
    "          \"random_state\" : [1,2,3,4,5] }\n",
    "#모델 생성\n",
    "# 위에서 만든 lgb_model 사용 \n",
    "\n",
    "#gridSearchCV 객체를 생성 \n",
    "grid = GridSearchCV(lgb_model, \n",
    "             params, \n",
    "             cv=5,\n",
    "             scoring = \"accuracy\")\n",
    "# GridSearchCV 모델 훈련 / 학습 시간이 오래걸릴 수 있다. \n",
    "grid.fit(X_train, Y_train)"
   ]
  },
  {
   "cell_type": "code",
   "execution_count": 6025,
   "id": "00ef8ec8",
   "metadata": {
    "scrolled": true
   },
   "outputs": [
    {
     "name": "stdout",
     "output_type": "stream",
     "text": [
      "0.6680978249770244\n",
      "{'learning_rate': 0.2, 'max_depth': 3, 'n_estimators': 48, 'random_state': 1}\n"
     ]
    }
   ],
   "source": [
    "print(grid.best_score_)\n",
    "print(grid.best_params_)"
   ]
  },
  {
   "cell_type": "code",
   "execution_count": 6026,
   "id": "e9fad4f4",
   "metadata": {
    "scrolled": true
   },
   "outputs": [
    {
     "data": {
      "text/plain": [
       "array([0, 1, 0, ..., 0, 0, 0])"
      ]
     },
     "execution_count": 6026,
     "metadata": {},
     "output_type": "execute_result"
    }
   ],
   "source": [
    "pre_xgb = grid.predict(X_test)\n",
    "pre_xgb"
   ]
  },
  {
   "cell_type": "code",
   "execution_count": 2202,
   "id": "58297599",
   "metadata": {},
   "outputs": [
    {
     "name": "stdout",
     "output_type": "stream",
     "text": [
      "features \n",
      " [12 18 98 31  7 47 83  0 12  3  0  0  0  0  4  0  0  2  0  0  0  5  2  1\n",
      "  1  3  1]\n",
      "\n",
      "\n"
     ]
    },
    {
     "ename": "ValueError",
     "evalue": "Shape of passed values is (27, 1), indices imply (6999, 1)",
     "output_type": "error",
     "traceback": [
      "\u001b[1;31m---------------------------------------------------------------------------\u001b[0m",
      "\u001b[1;31mValueError\u001b[0m                                Traceback (most recent call last)",
      "Input \u001b[1;32mIn [2202]\u001b[0m, in \u001b[0;36m<cell line: 15>\u001b[1;34m()\u001b[0m\n\u001b[0;32m     13\u001b[0m \u001b[38;5;28mprint\u001b[39m(\u001b[38;5;124m\"\u001b[39m\u001b[38;5;130;01m\\n\u001b[39;00m\u001b[38;5;124m\"\u001b[39m)\n\u001b[0;32m     14\u001b[0m \u001b[38;5;66;03m# 영향력이 높은 모델의 특성을 데이터 프레임화 시키기 \u001b[39;00m\n\u001b[1;32m---> 15\u001b[0m df1 \u001b[38;5;241m=\u001b[39m\u001b[43mpd\u001b[49m\u001b[38;5;241;43m.\u001b[39;49m\u001b[43mDataFrame\u001b[49m\u001b[43m(\u001b[49m\u001b[43mfeature\u001b[49m\u001b[43m,\u001b[49m\u001b[43m \u001b[49m\u001b[43mindex\u001b[49m\u001b[38;5;241;43m=\u001b[39;49m\u001b[43m \u001b[49m\u001b[43mtrain\u001b[49m\u001b[43m,\u001b[49m\u001b[43m \u001b[49m\u001b[43mcolumns\u001b[49m\u001b[38;5;241;43m=\u001b[39;49m\u001b[43m[\u001b[49m\u001b[38;5;124;43m\"\u001b[39;49m\u001b[38;5;124;43mimportances\u001b[39;49m\u001b[38;5;124;43m\"\u001b[39;49m\u001b[43m]\u001b[49m\u001b[43m)\u001b[49m\n\u001b[0;32m     16\u001b[0m \u001b[38;5;28mprint\u001b[39m(\u001b[38;5;124m\"\u001b[39m\u001b[38;5;124mdf1\u001b[39m\u001b[38;5;124m\"\u001b[39m, df1\u001b[38;5;241m.\u001b[39mhead(\u001b[38;5;241m3\u001b[39m))\n\u001b[0;32m     17\u001b[0m \u001b[38;5;28mprint\u001b[39m(\u001b[38;5;124m\"\u001b[39m\u001b[38;5;130;01m\\n\u001b[39;00m\u001b[38;5;124m\"\u001b[39m)\n",
      "File \u001b[1;32m~\\anaconda3\\lib\\site-packages\\pandas\\core\\frame.py:694\u001b[0m, in \u001b[0;36mDataFrame.__init__\u001b[1;34m(self, data, index, columns, dtype, copy)\u001b[0m\n\u001b[0;32m    684\u001b[0m         mgr \u001b[38;5;241m=\u001b[39m dict_to_mgr(\n\u001b[0;32m    685\u001b[0m             \u001b[38;5;66;03m# error: Item \"ndarray\" of \"Union[ndarray, Series, Index]\" has no\u001b[39;00m\n\u001b[0;32m    686\u001b[0m             \u001b[38;5;66;03m# attribute \"name\"\u001b[39;00m\n\u001b[1;32m   (...)\u001b[0m\n\u001b[0;32m    691\u001b[0m             typ\u001b[38;5;241m=\u001b[39mmanager,\n\u001b[0;32m    692\u001b[0m         )\n\u001b[0;32m    693\u001b[0m     \u001b[38;5;28;01melse\u001b[39;00m:\n\u001b[1;32m--> 694\u001b[0m         mgr \u001b[38;5;241m=\u001b[39m \u001b[43mndarray_to_mgr\u001b[49m\u001b[43m(\u001b[49m\n\u001b[0;32m    695\u001b[0m \u001b[43m            \u001b[49m\u001b[43mdata\u001b[49m\u001b[43m,\u001b[49m\n\u001b[0;32m    696\u001b[0m \u001b[43m            \u001b[49m\u001b[43mindex\u001b[49m\u001b[43m,\u001b[49m\n\u001b[0;32m    697\u001b[0m \u001b[43m            \u001b[49m\u001b[43mcolumns\u001b[49m\u001b[43m,\u001b[49m\n\u001b[0;32m    698\u001b[0m \u001b[43m            \u001b[49m\u001b[43mdtype\u001b[49m\u001b[38;5;241;43m=\u001b[39;49m\u001b[43mdtype\u001b[49m\u001b[43m,\u001b[49m\n\u001b[0;32m    699\u001b[0m \u001b[43m            \u001b[49m\u001b[43mcopy\u001b[49m\u001b[38;5;241;43m=\u001b[39;49m\u001b[43mcopy\u001b[49m\u001b[43m,\u001b[49m\n\u001b[0;32m    700\u001b[0m \u001b[43m            \u001b[49m\u001b[43mtyp\u001b[49m\u001b[38;5;241;43m=\u001b[39;49m\u001b[43mmanager\u001b[49m\u001b[43m,\u001b[49m\n\u001b[0;32m    701\u001b[0m \u001b[43m        \u001b[49m\u001b[43m)\u001b[49m\n\u001b[0;32m    703\u001b[0m \u001b[38;5;66;03m# For data is list-like, or Iterable (will consume into list)\u001b[39;00m\n\u001b[0;32m    704\u001b[0m \u001b[38;5;28;01melif\u001b[39;00m is_list_like(data):\n",
      "File \u001b[1;32m~\\anaconda3\\lib\\site-packages\\pandas\\core\\internals\\construction.py:351\u001b[0m, in \u001b[0;36mndarray_to_mgr\u001b[1;34m(values, index, columns, dtype, copy, typ)\u001b[0m\n\u001b[0;32m    346\u001b[0m \u001b[38;5;66;03m# _prep_ndarray ensures that values.ndim == 2 at this point\u001b[39;00m\n\u001b[0;32m    347\u001b[0m index, columns \u001b[38;5;241m=\u001b[39m _get_axes(\n\u001b[0;32m    348\u001b[0m     values\u001b[38;5;241m.\u001b[39mshape[\u001b[38;5;241m0\u001b[39m], values\u001b[38;5;241m.\u001b[39mshape[\u001b[38;5;241m1\u001b[39m], index\u001b[38;5;241m=\u001b[39mindex, columns\u001b[38;5;241m=\u001b[39mcolumns\n\u001b[0;32m    349\u001b[0m )\n\u001b[1;32m--> 351\u001b[0m \u001b[43m_check_values_indices_shape_match\u001b[49m\u001b[43m(\u001b[49m\u001b[43mvalues\u001b[49m\u001b[43m,\u001b[49m\u001b[43m \u001b[49m\u001b[43mindex\u001b[49m\u001b[43m,\u001b[49m\u001b[43m \u001b[49m\u001b[43mcolumns\u001b[49m\u001b[43m)\u001b[49m\n\u001b[0;32m    353\u001b[0m \u001b[38;5;28;01mif\u001b[39;00m typ \u001b[38;5;241m==\u001b[39m \u001b[38;5;124m\"\u001b[39m\u001b[38;5;124marray\u001b[39m\u001b[38;5;124m\"\u001b[39m:\n\u001b[0;32m    355\u001b[0m     \u001b[38;5;28;01mif\u001b[39;00m \u001b[38;5;28missubclass\u001b[39m(values\u001b[38;5;241m.\u001b[39mdtype\u001b[38;5;241m.\u001b[39mtype, \u001b[38;5;28mstr\u001b[39m):\n",
      "File \u001b[1;32m~\\anaconda3\\lib\\site-packages\\pandas\\core\\internals\\construction.py:422\u001b[0m, in \u001b[0;36m_check_values_indices_shape_match\u001b[1;34m(values, index, columns)\u001b[0m\n\u001b[0;32m    420\u001b[0m passed \u001b[38;5;241m=\u001b[39m values\u001b[38;5;241m.\u001b[39mshape\n\u001b[0;32m    421\u001b[0m implied \u001b[38;5;241m=\u001b[39m (\u001b[38;5;28mlen\u001b[39m(index), \u001b[38;5;28mlen\u001b[39m(columns))\n\u001b[1;32m--> 422\u001b[0m \u001b[38;5;28;01mraise\u001b[39;00m \u001b[38;5;167;01mValueError\u001b[39;00m(\u001b[38;5;124mf\u001b[39m\u001b[38;5;124m\"\u001b[39m\u001b[38;5;124mShape of passed values is \u001b[39m\u001b[38;5;132;01m{\u001b[39;00mpassed\u001b[38;5;132;01m}\u001b[39;00m\u001b[38;5;124m, indices imply \u001b[39m\u001b[38;5;132;01m{\u001b[39;00mimplied\u001b[38;5;132;01m}\u001b[39;00m\u001b[38;5;124m\"\u001b[39m)\n",
      "\u001b[1;31mValueError\u001b[0m: Shape of passed values is (27, 1), indices imply (6999, 1)"
     ]
    }
   ],
   "source": [
    "\n",
    "import pandas as pd\n",
    "import numpy as np\n",
    "from matplotlib import pyplot as plt \n",
    "\n",
    "# Gbm 완성하기 \n",
    "model_best = LGBMClassifier(learning_rate=0.3, max_depth=3, n_estimators=50, random_state=1)\n",
    "# model 훈련하기 \n",
    "model_best.fit(X_train, Y_train)\n",
    "\n",
    "# feature_importance_를 이용해서 영향력이 높은 특성을 알아보기 \n",
    "feature = model_best.feature_importances_\n",
    "print(\"features \\n\", feature)\n",
    "print(\"\\n\")\n",
    "# 영향력이 높은 모델의 특성을 데이터 프레임화 시키기 \n",
    "df1 =pd.DataFrame(feature, index= train, columns=[\"importances\"])\n",
    "print(\"df1\", df1.head(3))\n",
    "print(\"\\n\")\n",
    "\n",
    "#위의 데이터 프레임을 내림차순으로 정렬하기 \n",
    "# by = importances ascending = False \n",
    "df2 = df1.sort_values(by=\"importances\", ascending=False)\n",
    "print(\"df2\", df2.head(10))\n",
    "print(\"\\n\")\n",
    "df3= df2.head(10)\n",
    "print(\"df3\", df2.head(3))\n",
    "df3.plot.barh()\n"
   ]
  },
  {
   "cell_type": "code",
   "execution_count": 4609,
   "id": "82e415b5",
   "metadata": {},
   "outputs": [],
   "source": [
    "# 스태킹 모델 생성 \n"
   ]
  },
  {
   "cell_type": "code",
   "execution_count": null,
   "id": "bcd076c4",
   "metadata": {},
   "outputs": [],
   "source": [
    "from sklearn.model_selection import KFold\n",
    "from sklearn.metrics import mean_absolute_error"
   ]
  },
  {
   "cell_type": "code",
   "execution_count": null,
   "id": "98a16323",
   "metadata": {},
   "outputs": [],
   "source": [
    "# 개별 기반 모델에서 최종 메타 모델이 사용할 학습 및 테스트용 데이터를 생성하기 위한 함수 \n",
    "def get_stacking_base_datasets(model, X_train_n, Y_train_n, X_test_n, n_folds):\n",
    "    #지정된 n_fold값으로 kFold 생성 \n",
    "    kf = KFold(n_splits=n_folds, shuffle=False)\n",
    "    # 추후에 메타 모델이 사용할 학습 데이터 반환을 위한 넘파이 배열 초기화 \n",
    "    train_fold_pred = np.zeros((X_train_n.shape[0,1]))\n",
    "    test_pred = np.zeros((X_test_n.shape[0], n_folds))\n",
    "    print(model._class_._name_,' model 시작')\n",
    "    for folder_counter, (train_index, valid_index) in enumerate(kf.split(X_train_n)):\n",
    "        #입력된 학습 데이터에서 기반 모델이 학습/예측할 폴드 데이터 세트 추출 \n",
    "        print('\\t 폴드 세트:', folder_counter, '시작')\n",
    "        X_tr = X_train_n[train_index]\n",
    "        Y_tr= Y_train_n[train_index]\n",
    "        X_te= X_train_n[valid_index]\n",
    "        # 폴드 세트 내부에서 다시 만들어진 학습 데이터로 기반 모델의 학습 수행 \n",
    "        model.fit(X_tr, y_tr)\n",
    "        # 폴드 세트 내부에서 다시 만들어진 검증 데이터로 기반 모델 예측 후 데이터 저장 \n",
    "        train_fold_pred[valid_index, :] = model.predict(X_te).reshape(-1,1)\n",
    "        # 입력된 원본 테스트 데이터를 폴으 세트 내 학습된 기반 모델에서 예측 후 데이터 저장 \n",
    "        test_pred[:, folder_counter]= model.predict(X_test_n)\n",
    "    #폴드 세트 내에서 원본 테스트 데이터를 예측한 데이터를 평균하여 테스트데이터로 생성    \n",
    "    test_pred_mean = np.mean(test_pred, axis=1).reshape(-1,1)\n",
    "    \n",
    "    #train_fold_pred는 최종 메타 모델이 사용하는 학습 데이터, test_pred_mean은 테스트 데이터 \n",
    "    return train_fold_pred, test_pred_mean\n",
    "        "
   ]
  }
 ],
 "metadata": {
  "kernelspec": {
   "display_name": "Python 3 (ipykernel)",
   "language": "python",
   "name": "python3"
  },
  "language_info": {
   "codemirror_mode": {
    "name": "ipython",
    "version": 3
   },
   "file_extension": ".py",
   "mimetype": "text/x-python",
   "name": "python",
   "nbconvert_exporter": "python",
   "pygments_lexer": "ipython3",
   "version": "3.9.12"
  },
  "toc": {
   "base_numbering": 1,
   "nav_menu": {},
   "number_sections": true,
   "sideBar": true,
   "skip_h1_title": false,
   "title_cell": "Table of Contents",
   "title_sidebar": "Contents",
   "toc_cell": false,
   "toc_position": {
    "height": "calc(100% - 180px)",
    "left": "10px",
    "top": "150px",
    "width": "227.102px"
   },
   "toc_section_display": true,
   "toc_window_display": true
  }
 },
 "nbformat": 4,
 "nbformat_minor": 5
}
